{
 "cells": [
  {
   "cell_type": "code",
   "execution_count": 107,
   "metadata": {},
   "outputs": [
    {
     "name": "stdout",
     "output_type": "stream",
     "text": [
      "TensorFlow version: 2.17.0\n"
     ]
    }
   ],
   "source": [
    "# Imports\n",
    "import tensorflow as tf\n",
    "from tensorflow.keras.callbacks import ReduceLROnPlateau\n",
    "from tensorflow.keras import regularizers\n",
    "from tensorflow.keras.models import Sequential\n",
    "from tensorflow.keras.optimizers import Adam, SGD\n",
    "from tensorflow.keras.layers import Dense, Dropout, Input\n",
    "from tensorflow.keras.initializers import GlorotUniform, RandomNormal\n",
    "from tensorflow.keras.models import load_model\n",
    "print (\"TensorFlow version: \" + tf.__version__)\n",
    "import numpy as np\n",
    "import matplotlib.pyplot as plt\n",
    "import pandas as pd\n",
    "import random\n",
    "import glob\n",
    "import os\n",
    "from sklearn.utils import class_weight\n",
    "from sklearn.preprocessing import StandardScaler\n",
    "from sklearn.utils import shuffle\n",
    "from sklearn.model_selection import train_test_split\n"
   ]
  },
  {
   "cell_type": "markdown",
   "metadata": {},
   "source": [
    "Load Dataset\n",
    " Each File has 31 rows and 4 columns. The first 3 columns indicate heart rate, respiratory rate, and oxygen saturation of a baby; the last column indicates if the baby is in pain or not (0 means no pain, 1 means slight pain, 2 means severe pain, # means label is missing).\n"
   ]
  },
  {
   "cell_type": "code",
   "execution_count": 108,
   "metadata": {},
   "outputs": [
    {
     "data": {
      "text/html": [
       "<div>\n",
       "<style scoped>\n",
       "    .dataframe tbody tr th:only-of-type {\n",
       "        vertical-align: middle;\n",
       "    }\n",
       "\n",
       "    .dataframe tbody tr th {\n",
       "        vertical-align: top;\n",
       "    }\n",
       "\n",
       "    .dataframe thead th {\n",
       "        text-align: right;\n",
       "    }\n",
       "</style>\n",
       "<table border=\"1\" class=\"dataframe\">\n",
       "  <thead>\n",
       "    <tr style=\"text-align: right;\">\n",
       "      <th></th>\n",
       "      <th>1</th>\n",
       "      <th>2</th>\n",
       "      <th>3</th>\n",
       "      <th>4</th>\n",
       "    </tr>\n",
       "  </thead>\n",
       "  <tbody>\n",
       "    <tr>\n",
       "      <th>0</th>\n",
       "      <td>142</td>\n",
       "      <td>60</td>\n",
       "      <td>100</td>\n",
       "      <td>0</td>\n",
       "    </tr>\n",
       "    <tr>\n",
       "      <th>1</th>\n",
       "      <td>142</td>\n",
       "      <td>60</td>\n",
       "      <td>100</td>\n",
       "      <td>0</td>\n",
       "    </tr>\n",
       "    <tr>\n",
       "      <th>2</th>\n",
       "      <td>142</td>\n",
       "      <td>60</td>\n",
       "      <td>100</td>\n",
       "      <td>0</td>\n",
       "    </tr>\n",
       "    <tr>\n",
       "      <th>3</th>\n",
       "      <td>142</td>\n",
       "      <td>59</td>\n",
       "      <td>100</td>\n",
       "      <td>0</td>\n",
       "    </tr>\n",
       "    <tr>\n",
       "      <th>4</th>\n",
       "      <td>143</td>\n",
       "      <td>59</td>\n",
       "      <td>100</td>\n",
       "      <td>0</td>\n",
       "    </tr>\n",
       "    <tr>\n",
       "      <th>...</th>\n",
       "      <td>...</td>\n",
       "      <td>...</td>\n",
       "      <td>...</td>\n",
       "      <td>...</td>\n",
       "    </tr>\n",
       "    <tr>\n",
       "      <th>18657</th>\n",
       "      <td>169</td>\n",
       "      <td>19</td>\n",
       "      <td>98</td>\n",
       "      <td>1</td>\n",
       "    </tr>\n",
       "    <tr>\n",
       "      <th>18658</th>\n",
       "      <td>164</td>\n",
       "      <td>50</td>\n",
       "      <td>98</td>\n",
       "      <td>1</td>\n",
       "    </tr>\n",
       "    <tr>\n",
       "      <th>18659</th>\n",
       "      <td>164</td>\n",
       "      <td>74</td>\n",
       "      <td>98</td>\n",
       "      <td>1</td>\n",
       "    </tr>\n",
       "    <tr>\n",
       "      <th>18660</th>\n",
       "      <td>162</td>\n",
       "      <td>39</td>\n",
       "      <td>99</td>\n",
       "      <td>1</td>\n",
       "    </tr>\n",
       "    <tr>\n",
       "      <th>18661</th>\n",
       "      <td>167</td>\n",
       "      <td>13</td>\n",
       "      <td>99</td>\n",
       "      <td>1</td>\n",
       "    </tr>\n",
       "  </tbody>\n",
       "</table>\n",
       "<p>17483 rows × 4 columns</p>\n",
       "</div>"
      ],
      "text/plain": [
       "         1   2    3  4\n",
       "0      142  60  100  0\n",
       "1      142  60  100  0\n",
       "2      142  60  100  0\n",
       "3      142  59  100  0\n",
       "4      143  59  100  0\n",
       "...    ...  ..  ... ..\n",
       "18657  169  19   98  1\n",
       "18658  164  50   98  1\n",
       "18659  164  74   98  1\n",
       "18660  162  39   99  1\n",
       "18661  167  13   99  1\n",
       "\n",
       "[17483 rows x 4 columns]"
      ]
     },
     "execution_count": 108,
     "metadata": {},
     "output_type": "execute_result"
    }
   ],
   "source": [
    "data_dir = \"./Data/\"\n",
    "csv_files = glob.glob(data_dir + \"/**/*.csv\", recursive=True) # get all csv files in the data directory\n",
    "combined_csv = pd.concat([pd.read_csv(f, header=None) for f in csv_files], ignore_index=True) # combine all csv files into one dataframe\n",
    "combined_csv.drop(columns=[0], inplace=True) # drop the first column (index)\n",
    "combined_csv = combined_csv[combined_csv.iloc[:, 3] != \"#\"] # remove rows with \"#\" in the 4th column\n",
    "combined_csv = combined_csv[combined_csv.iloc[:, 2] != \"--1\"] # remove row with \"--1\" in the 3rd column (why is that there?)\n",
    "combined_csv # display the combined dataframe\n"
   ]
  },
  {
   "cell_type": "code",
   "execution_count": 109,
   "metadata": {},
   "outputs": [],
   "source": [
    "#  Shuffle dataset\n",
    "combined_csv = shuffle(combined_csv)"
   ]
  },
  {
   "cell_type": "code",
   "execution_count": 110,
   "metadata": {},
   "outputs": [],
   "source": [
    "# Split Dataset\n",
    "train, test = train_test_split(combined_csv, test_size=0.1) \n",
    "train, valid = train_test_split(combined_csv, test_size=0.1) # split the dataset into 90% training and 10% validation (test) sets"
   ]
  },
  {
   "cell_type": "code",
   "execution_count": 111,
   "metadata": {},
   "outputs": [],
   "source": [
    "# Normalized Dataset\n",
    "scaler = StandardScaler() # initialize scaler\n",
    "train_x = scaler.fit_transform(train.iloc[:, 0:3]) # fit the scaler on the training data and transform the training data\n",
    "train_y = train.iloc[:, 3] # get the labels for the training data\n",
    "valid_x = scaler.transform(valid.iloc[:, 0:3]) # transform the validation data\n",
    "valid_y = valid.iloc[:, 3] # get the labels for the validation data\n",
    "test_x = scaler.transform(test.iloc[:, 0:3]) # transform the test data\n",
    "test_y = test.iloc[:, 3] # get the labels\n",
    "\n",
    "#  Non-Normalized Dataset\n",
    "# train_x = train.iloc[:, 0:3].values\n",
    "# train_y = train.iloc[:, 3].values   \n",
    "# valid_x = valid.iloc[:, 0:3].values\n",
    "# valid_y = valid.iloc[:, 3].values\n",
    "# test_x = test.iloc[:, 0:3].values\n",
    "# test_y = test.iloc[:, 3].values"
   ]
  },
  {
   "cell_type": "code",
   "execution_count": 112,
   "metadata": {},
   "outputs": [],
   "source": [
    "# Convert to float32 (this was annoying)\n",
    "train_x = np.array(train_x, np.float32)\n",
    "train_y = np.array(train_y, np.float32)\n",
    "valid_x = np.array(valid_x, np.float32)\n",
    "valid_y = np.array(valid_y, np.float32)\n",
    "test_x = np.array(test_x, np.float32)\n",
    "test_y = np.array(test_y, np.float32)\n",
    "\n",
    "\n",
    "# print(train_y.value_counts())"
   ]
  },
  {
   "cell_type": "code",
   "execution_count": 113,
   "metadata": {},
   "outputs": [
    {
     "data": {
      "text/html": [
       "<pre style=\"white-space:pre;overflow-x:auto;line-height:normal;font-family:Menlo,'DejaVu Sans Mono',consolas,'Courier New',monospace\"><span style=\"font-weight: bold\">Model: \"sequential_8\"</span>\n",
       "</pre>\n"
      ],
      "text/plain": [
       "\u001b[1mModel: \"sequential_8\"\u001b[0m\n"
      ]
     },
     "metadata": {},
     "output_type": "display_data"
    },
    {
     "data": {
      "text/html": [
       "<pre style=\"white-space:pre;overflow-x:auto;line-height:normal;font-family:Menlo,'DejaVu Sans Mono',consolas,'Courier New',monospace\">┏━━━━━━━━━━━━━━━━━━━━━━━━━━━━━━━━━┳━━━━━━━━━━━━━━━━━━━━━━━━┳━━━━━━━━━━━━━━━┓\n",
       "┃<span style=\"font-weight: bold\"> Layer (type)                    </span>┃<span style=\"font-weight: bold\"> Output Shape           </span>┃<span style=\"font-weight: bold\">       Param # </span>┃\n",
       "┡━━━━━━━━━━━━━━━━━━━━━━━━━━━━━━━━━╇━━━━━━━━━━━━━━━━━━━━━━━━╇━━━━━━━━━━━━━━━┩\n",
       "│ dense_40 (<span style=\"color: #0087ff; text-decoration-color: #0087ff\">Dense</span>)                │ (<span style=\"color: #00d7ff; text-decoration-color: #00d7ff\">None</span>, <span style=\"color: #00af00; text-decoration-color: #00af00\">32</span>)             │           <span style=\"color: #00af00; text-decoration-color: #00af00\">128</span> │\n",
       "├─────────────────────────────────┼────────────────────────┼───────────────┤\n",
       "│ dense_41 (<span style=\"color: #0087ff; text-decoration-color: #0087ff\">Dense</span>)                │ (<span style=\"color: #00d7ff; text-decoration-color: #00d7ff\">None</span>, <span style=\"color: #00af00; text-decoration-color: #00af00\">64</span>)             │         <span style=\"color: #00af00; text-decoration-color: #00af00\">2,112</span> │\n",
       "├─────────────────────────────────┼────────────────────────┼───────────────┤\n",
       "│ dropout_12 (<span style=\"color: #0087ff; text-decoration-color: #0087ff\">Dropout</span>)            │ (<span style=\"color: #00d7ff; text-decoration-color: #00d7ff\">None</span>, <span style=\"color: #00af00; text-decoration-color: #00af00\">64</span>)             │             <span style=\"color: #00af00; text-decoration-color: #00af00\">0</span> │\n",
       "├─────────────────────────────────┼────────────────────────┼───────────────┤\n",
       "│ dense_42 (<span style=\"color: #0087ff; text-decoration-color: #0087ff\">Dense</span>)                │ (<span style=\"color: #00d7ff; text-decoration-color: #00d7ff\">None</span>, <span style=\"color: #00af00; text-decoration-color: #00af00\">32</span>)             │         <span style=\"color: #00af00; text-decoration-color: #00af00\">2,080</span> │\n",
       "├─────────────────────────────────┼────────────────────────┼───────────────┤\n",
       "│ dropout_13 (<span style=\"color: #0087ff; text-decoration-color: #0087ff\">Dropout</span>)            │ (<span style=\"color: #00d7ff; text-decoration-color: #00d7ff\">None</span>, <span style=\"color: #00af00; text-decoration-color: #00af00\">32</span>)             │             <span style=\"color: #00af00; text-decoration-color: #00af00\">0</span> │\n",
       "├─────────────────────────────────┼────────────────────────┼───────────────┤\n",
       "│ dense_43 (<span style=\"color: #0087ff; text-decoration-color: #0087ff\">Dense</span>)                │ (<span style=\"color: #00d7ff; text-decoration-color: #00d7ff\">None</span>, <span style=\"color: #00af00; text-decoration-color: #00af00\">16</span>)             │           <span style=\"color: #00af00; text-decoration-color: #00af00\">528</span> │\n",
       "├─────────────────────────────────┼────────────────────────┼───────────────┤\n",
       "│ dense_44 (<span style=\"color: #0087ff; text-decoration-color: #0087ff\">Dense</span>)                │ (<span style=\"color: #00d7ff; text-decoration-color: #00d7ff\">None</span>, <span style=\"color: #00af00; text-decoration-color: #00af00\">3</span>)              │            <span style=\"color: #00af00; text-decoration-color: #00af00\">51</span> │\n",
       "└─────────────────────────────────┴────────────────────────┴───────────────┘\n",
       "</pre>\n"
      ],
      "text/plain": [
       "┏━━━━━━━━━━━━━━━━━━━━━━━━━━━━━━━━━┳━━━━━━━━━━━━━━━━━━━━━━━━┳━━━━━━━━━━━━━━━┓\n",
       "┃\u001b[1m \u001b[0m\u001b[1mLayer (type)                   \u001b[0m\u001b[1m \u001b[0m┃\u001b[1m \u001b[0m\u001b[1mOutput Shape          \u001b[0m\u001b[1m \u001b[0m┃\u001b[1m \u001b[0m\u001b[1m      Param #\u001b[0m\u001b[1m \u001b[0m┃\n",
       "┡━━━━━━━━━━━━━━━━━━━━━━━━━━━━━━━━━╇━━━━━━━━━━━━━━━━━━━━━━━━╇━━━━━━━━━━━━━━━┩\n",
       "│ dense_40 (\u001b[38;5;33mDense\u001b[0m)                │ (\u001b[38;5;45mNone\u001b[0m, \u001b[38;5;34m32\u001b[0m)             │           \u001b[38;5;34m128\u001b[0m │\n",
       "├─────────────────────────────────┼────────────────────────┼───────────────┤\n",
       "│ dense_41 (\u001b[38;5;33mDense\u001b[0m)                │ (\u001b[38;5;45mNone\u001b[0m, \u001b[38;5;34m64\u001b[0m)             │         \u001b[38;5;34m2,112\u001b[0m │\n",
       "├─────────────────────────────────┼────────────────────────┼───────────────┤\n",
       "│ dropout_12 (\u001b[38;5;33mDropout\u001b[0m)            │ (\u001b[38;5;45mNone\u001b[0m, \u001b[38;5;34m64\u001b[0m)             │             \u001b[38;5;34m0\u001b[0m │\n",
       "├─────────────────────────────────┼────────────────────────┼───────────────┤\n",
       "│ dense_42 (\u001b[38;5;33mDense\u001b[0m)                │ (\u001b[38;5;45mNone\u001b[0m, \u001b[38;5;34m32\u001b[0m)             │         \u001b[38;5;34m2,080\u001b[0m │\n",
       "├─────────────────────────────────┼────────────────────────┼───────────────┤\n",
       "│ dropout_13 (\u001b[38;5;33mDropout\u001b[0m)            │ (\u001b[38;5;45mNone\u001b[0m, \u001b[38;5;34m32\u001b[0m)             │             \u001b[38;5;34m0\u001b[0m │\n",
       "├─────────────────────────────────┼────────────────────────┼───────────────┤\n",
       "│ dense_43 (\u001b[38;5;33mDense\u001b[0m)                │ (\u001b[38;5;45mNone\u001b[0m, \u001b[38;5;34m16\u001b[0m)             │           \u001b[38;5;34m528\u001b[0m │\n",
       "├─────────────────────────────────┼────────────────────────┼───────────────┤\n",
       "│ dense_44 (\u001b[38;5;33mDense\u001b[0m)                │ (\u001b[38;5;45mNone\u001b[0m, \u001b[38;5;34m3\u001b[0m)              │            \u001b[38;5;34m51\u001b[0m │\n",
       "└─────────────────────────────────┴────────────────────────┴───────────────┘\n"
      ]
     },
     "metadata": {},
     "output_type": "display_data"
    },
    {
     "data": {
      "text/html": [
       "<pre style=\"white-space:pre;overflow-x:auto;line-height:normal;font-family:Menlo,'DejaVu Sans Mono',consolas,'Courier New',monospace\"><span style=\"font-weight: bold\"> Total params: </span><span style=\"color: #00af00; text-decoration-color: #00af00\">4,899</span> (19.14 KB)\n",
       "</pre>\n"
      ],
      "text/plain": [
       "\u001b[1m Total params: \u001b[0m\u001b[38;5;34m4,899\u001b[0m (19.14 KB)\n"
      ]
     },
     "metadata": {},
     "output_type": "display_data"
    },
    {
     "data": {
      "text/html": [
       "<pre style=\"white-space:pre;overflow-x:auto;line-height:normal;font-family:Menlo,'DejaVu Sans Mono',consolas,'Courier New',monospace\"><span style=\"font-weight: bold\"> Trainable params: </span><span style=\"color: #00af00; text-decoration-color: #00af00\">4,899</span> (19.14 KB)\n",
       "</pre>\n"
      ],
      "text/plain": [
       "\u001b[1m Trainable params: \u001b[0m\u001b[38;5;34m4,899\u001b[0m (19.14 KB)\n"
      ]
     },
     "metadata": {},
     "output_type": "display_data"
    },
    {
     "data": {
      "text/html": [
       "<pre style=\"white-space:pre;overflow-x:auto;line-height:normal;font-family:Menlo,'DejaVu Sans Mono',consolas,'Courier New',monospace\"><span style=\"font-weight: bold\"> Non-trainable params: </span><span style=\"color: #00af00; text-decoration-color: #00af00\">0</span> (0.00 B)\n",
       "</pre>\n"
      ],
      "text/plain": [
       "\u001b[1m Non-trainable params: \u001b[0m\u001b[38;5;34m0\u001b[0m (0.00 B)\n"
      ]
     },
     "metadata": {},
     "output_type": "display_data"
    }
   ],
   "source": [
    "# Models\n",
    "\n",
    "# Xavier w/ regularizer\n",
    "# model = Sequential([\n",
    "#     Input(shape=(3,)),\n",
    "#     Dense(32, activation='relu', kernel_initializer=GlorotUniform(), kernel_regularizer=regularizers.l2(0.01)),\n",
    "#     Dense(64, activation='relu', kernel_initializer=GlorotUniform(), kernel_regularizer=regularizers.l2(0.01)),\n",
    "#     Dense(32, activation='relu', kernel_initializer=GlorotUniform(), kernel_regularizer=regularizers.l2(0.01)),\n",
    "#     Dense(16, activation='relu', kernel_initializer=GlorotUniform(), kernel_regularizer=regularizers.l2(0.01)),\n",
    "#     Dense(3, activation='softmax', kernel_initializer=GlorotUniform(), kernel_regularizer=regularizers.l2(0.01))\n",
    "# ])\n",
    "\n",
    "# Xavier w/o regularizer\n",
    "model = Sequential([\n",
    "    Input(shape=(3,)),\n",
    "    Dense(32, activation='relu', kernel_initializer=GlorotUniform()),\n",
    "    Dense(64, activation='relu', kernel_initializer=GlorotUniform()),\n",
    "    Dropout(0.3),\n",
    "    Dense(32, activation='relu', kernel_initializer=GlorotUniform()),\n",
    "    Dropout(0.3),\n",
    "    Dense(16, activation='relu', kernel_initializer=GlorotUniform()),\n",
    "    Dense(3, activation='softmax', kernel_initializer=GlorotUniform())\n",
    "])\n",
    "\n",
    "# Random Normal w/ regularizer\n",
    "# model = Sequential([\n",
    "#     Input(shape=(3,)),\n",
    "#     Dense(32, activation='relu', kernel_initializer=RandomNormal(), kernel_regularizer=regularizers.l2(0.01)),\n",
    "#     Dense(64, activation='relu', kernel_initializer=RandomNormal(), kernel_regularizer=regularizers.l2(0.01)),\n",
    "#     Dense(32, activation='relu', kernel_initializer=RandomNormal(), kernel_regularizer=regularizers.l2(0.01)),\n",
    "#     Dense(16, activation='relu', kernel_initializer=RandomNormal(), kernel_regularizer=regularizers.l2(0.01)),\n",
    "#     Dense(3, activation='softmax', kernel_initializer=RandomNormal(), kernel_regularizer=regularizers.l2(0.01))\n",
    "# ])\n",
    "\n",
    "# Random Normal w/o regularizer\n",
    "# model = Sequential([\n",
    "#     Input(shape=(3,)),\n",
    "#     Dense(32, activation='relu', kernel_initializer=RandomNormal()), #\n",
    "#     Dense(64, activation='relu', kernel_initializer=RandomNormal()),\n",
    "#     Dropout(0.3),\n",
    "#     Dense(32, activation='relu', kernel_initializer=RandomNormal()),\n",
    "#     Dropout(0.3),\n",
    "#     Dense(16, activation='relu', kernel_initializer=RandomNormal()),\n",
    "#     Dense(3, activation='softmax', kernel_initializer=RandomNormal())\n",
    "# ])\n",
    "\n",
    "model.summary()"
   ]
  },
  {
   "cell_type": "code",
   "execution_count": 114,
   "metadata": {},
   "outputs": [],
   "source": [
    "# Optimizers and Compiling\n",
    "\n",
    "# ADAM Optimizer w/ Learning Rate of 0.01\n",
    "# model.compile(optimizer=Adam(learning_rate=.01), loss='sparse_categorical_crossentropy', metrics=['accuracy'])\n",
    "\n",
    "# ADAM Optimizer w/ Learning Rate of 0.0001\n",
    "# model.compile(optimizer=Adam(learning_rate=.0001), loss='sparse_categorical_crossentropy', metrics=['accuracy'])\n",
    "\n",
    "# Momentum Optimizer w/ Learning Rate of 0.01\n",
    "# model.compile(optimizer=SGD(learning_rate=.1, momentum=0.7), loss='sparse_categorical_crossentropy', metrics=['accuracy'])\n",
    "\n",
    "# Momentum Optimizer w/ Learning Rate of 0.0001\n",
    "model.compile(optimizer=SGD(learning_rate=.001, momentum=0.7), loss='sparse_categorical_crossentropy', metrics=['accuracy'])"
   ]
  },
  {
   "cell_type": "code",
   "execution_count": 115,
   "metadata": {},
   "outputs": [],
   "source": [
    "# Define ReduceLROnPlateau callback,hopes in reducing plateu in loss\n",
    "reduce_lr = ReduceLROnPlateau(monitor='val_loss', factor=0.2, patience=5, min_lr=0.00001)\n"
   ]
  },
  {
   "cell_type": "code",
   "execution_count": 116,
   "metadata": {},
   "outputs": [
    {
     "name": "stdout",
     "output_type": "stream",
     "text": [
      "Epoch 1/80\n",
      "\u001b[1m158/158\u001b[0m \u001b[32m━━━━━━━━━━━━━━━━━━━━\u001b[0m\u001b[37m\u001b[0m \u001b[1m1s\u001b[0m 1ms/step - accuracy: 0.4673 - loss: 1.0707 - val_accuracy: 0.5695 - val_loss: 0.9686 - learning_rate: 0.0010\n",
      "Epoch 2/80\n",
      "\u001b[1m158/158\u001b[0m \u001b[32m━━━━━━━━━━━━━━━━━━━━\u001b[0m\u001b[37m\u001b[0m \u001b[1m0s\u001b[0m 692us/step - accuracy: 0.5511 - loss: 0.9571 - val_accuracy: 0.5723 - val_loss: 0.8926 - learning_rate: 0.0010\n",
      "Epoch 3/80\n",
      "\u001b[1m158/158\u001b[0m \u001b[32m━━━━━━━━━━━━━━━━━━━━\u001b[0m\u001b[37m\u001b[0m \u001b[1m0s\u001b[0m 674us/step - accuracy: 0.5572 - loss: 0.9043 - val_accuracy: 0.5723 - val_loss: 0.8594 - learning_rate: 0.0010\n",
      "Epoch 4/80\n",
      "\u001b[1m158/158\u001b[0m \u001b[32m━━━━━━━━━━━━━━━━━━━━\u001b[0m\u001b[37m\u001b[0m \u001b[1m0s\u001b[0m 676us/step - accuracy: 0.5531 - loss: 0.8858 - val_accuracy: 0.5723 - val_loss: 0.8429 - learning_rate: 0.0010\n",
      "Epoch 5/80\n",
      "\u001b[1m158/158\u001b[0m \u001b[32m━━━━━━━━━━━━━━━━━━━━\u001b[0m\u001b[37m\u001b[0m \u001b[1m0s\u001b[0m 663us/step - accuracy: 0.5519 - loss: 0.8699 - val_accuracy: 0.5723 - val_loss: 0.8329 - learning_rate: 0.0010\n",
      "Epoch 6/80\n",
      "\u001b[1m158/158\u001b[0m \u001b[32m━━━━━━━━━━━━━━━━━━━━\u001b[0m\u001b[37m\u001b[0m \u001b[1m0s\u001b[0m 663us/step - accuracy: 0.5580 - loss: 0.8586 - val_accuracy: 0.5735 - val_loss: 0.8257 - learning_rate: 0.0010\n",
      "Epoch 7/80\n",
      "\u001b[1m158/158\u001b[0m \u001b[32m━━━━━━━━━━━━━━━━━━━━\u001b[0m\u001b[37m\u001b[0m \u001b[1m0s\u001b[0m 679us/step - accuracy: 0.5555 - loss: 0.8567 - val_accuracy: 0.5740 - val_loss: 0.8196 - learning_rate: 0.0010\n",
      "Epoch 8/80\n",
      "\u001b[1m158/158\u001b[0m \u001b[32m━━━━━━━━━━━━━━━━━━━━\u001b[0m\u001b[37m\u001b[0m \u001b[1m0s\u001b[0m 736us/step - accuracy: 0.5595 - loss: 0.8484 - val_accuracy: 0.5792 - val_loss: 0.8139 - learning_rate: 0.0010\n",
      "Epoch 9/80\n",
      "\u001b[1m158/158\u001b[0m \u001b[32m━━━━━━━━━━━━━━━━━━━━\u001b[0m\u001b[37m\u001b[0m \u001b[1m0s\u001b[0m 763us/step - accuracy: 0.5614 - loss: 0.8397 - val_accuracy: 0.5792 - val_loss: 0.8087 - learning_rate: 0.0010\n",
      "Epoch 10/80\n",
      "\u001b[1m158/158\u001b[0m \u001b[32m━━━━━━━━━━━━━━━━━━━━\u001b[0m\u001b[37m\u001b[0m \u001b[1m0s\u001b[0m 672us/step - accuracy: 0.5654 - loss: 0.8361 - val_accuracy: 0.5752 - val_loss: 0.8031 - learning_rate: 0.0010\n",
      "Epoch 11/80\n",
      "\u001b[1m158/158\u001b[0m \u001b[32m━━━━━━━━━━━━━━━━━━━━\u001b[0m\u001b[37m\u001b[0m \u001b[1m0s\u001b[0m 682us/step - accuracy: 0.5798 - loss: 0.8292 - val_accuracy: 0.5889 - val_loss: 0.7978 - learning_rate: 0.0010\n",
      "Epoch 12/80\n",
      "\u001b[1m158/158\u001b[0m \u001b[32m━━━━━━━━━━━━━━━━━━━━\u001b[0m\u001b[37m\u001b[0m \u001b[1m0s\u001b[0m 663us/step - accuracy: 0.5816 - loss: 0.8282 - val_accuracy: 0.5992 - val_loss: 0.7914 - learning_rate: 0.0010\n",
      "Epoch 13/80\n",
      "\u001b[1m158/158\u001b[0m \u001b[32m━━━━━━━━━━━━━━━━━━━━\u001b[0m\u001b[37m\u001b[0m \u001b[1m0s\u001b[0m 704us/step - accuracy: 0.5845 - loss: 0.8232 - val_accuracy: 0.6141 - val_loss: 0.7854 - learning_rate: 0.0010\n",
      "Epoch 14/80\n",
      "\u001b[1m158/158\u001b[0m \u001b[32m━━━━━━━━━━━━━━━━━━━━\u001b[0m\u001b[37m\u001b[0m \u001b[1m0s\u001b[0m 653us/step - accuracy: 0.5977 - loss: 0.8149 - val_accuracy: 0.6387 - val_loss: 0.7788 - learning_rate: 0.0010\n",
      "Epoch 15/80\n",
      "\u001b[1m158/158\u001b[0m \u001b[32m━━━━━━━━━━━━━━━━━━━━\u001b[0m\u001b[37m\u001b[0m \u001b[1m0s\u001b[0m 666us/step - accuracy: 0.6063 - loss: 0.8147 - val_accuracy: 0.6512 - val_loss: 0.7720 - learning_rate: 0.0010\n",
      "Epoch 16/80\n",
      "\u001b[1m158/158\u001b[0m \u001b[32m━━━━━━━━━━━━━━━━━━━━\u001b[0m\u001b[37m\u001b[0m \u001b[1m0s\u001b[0m 663us/step - accuracy: 0.6146 - loss: 0.8009 - val_accuracy: 0.6690 - val_loss: 0.7651 - learning_rate: 0.0010\n",
      "Epoch 17/80\n",
      "\u001b[1m158/158\u001b[0m \u001b[32m━━━━━━━━━━━━━━━━━━━━\u001b[0m\u001b[37m\u001b[0m \u001b[1m0s\u001b[0m 656us/step - accuracy: 0.6175 - loss: 0.8102 - val_accuracy: 0.6787 - val_loss: 0.7581 - learning_rate: 0.0010\n",
      "Epoch 18/80\n",
      "\u001b[1m158/158\u001b[0m \u001b[32m━━━━━━━━━━━━━━━━━━━━\u001b[0m\u001b[37m\u001b[0m \u001b[1m0s\u001b[0m 694us/step - accuracy: 0.6260 - loss: 0.7978 - val_accuracy: 0.6878 - val_loss: 0.7513 - learning_rate: 0.0010\n",
      "Epoch 19/80\n",
      "\u001b[1m158/158\u001b[0m \u001b[32m━━━━━━━━━━━━━━━━━━━━\u001b[0m\u001b[37m\u001b[0m \u001b[1m0s\u001b[0m 656us/step - accuracy: 0.6427 - loss: 0.7873 - val_accuracy: 0.7021 - val_loss: 0.7448 - learning_rate: 0.0010\n",
      "Epoch 20/80\n",
      "\u001b[1m158/158\u001b[0m \u001b[32m━━━━━━━━━━━━━━━━━━━━\u001b[0m\u001b[37m\u001b[0m \u001b[1m0s\u001b[0m 660us/step - accuracy: 0.6503 - loss: 0.7907 - val_accuracy: 0.7050 - val_loss: 0.7382 - learning_rate: 0.0010\n",
      "Epoch 21/80\n",
      "\u001b[1m158/158\u001b[0m \u001b[32m━━━━━━━━━━━━━━━━━━━━\u001b[0m\u001b[37m\u001b[0m \u001b[1m0s\u001b[0m 657us/step - accuracy: 0.6526 - loss: 0.7795 - val_accuracy: 0.7141 - val_loss: 0.7322 - learning_rate: 0.0010\n",
      "Epoch 22/80\n",
      "\u001b[1m158/158\u001b[0m \u001b[32m━━━━━━━━━━━━━━━━━━━━\u001b[0m\u001b[37m\u001b[0m \u001b[1m0s\u001b[0m 670us/step - accuracy: 0.6658 - loss: 0.7720 - val_accuracy: 0.7181 - val_loss: 0.7270 - learning_rate: 0.0010\n",
      "Epoch 23/80\n",
      "\u001b[1m158/158\u001b[0m \u001b[32m━━━━━━━━━━━━━━━━━━━━\u001b[0m\u001b[37m\u001b[0m \u001b[1m0s\u001b[0m 688us/step - accuracy: 0.6693 - loss: 0.7702 - val_accuracy: 0.7130 - val_loss: 0.7207 - learning_rate: 0.0010\n",
      "Epoch 24/80\n",
      "\u001b[1m158/158\u001b[0m \u001b[32m━━━━━━━━━━━━━━━━━━━━\u001b[0m\u001b[37m\u001b[0m \u001b[1m0s\u001b[0m 657us/step - accuracy: 0.6734 - loss: 0.7651 - val_accuracy: 0.7164 - val_loss: 0.7152 - learning_rate: 0.0010\n",
      "Epoch 25/80\n",
      "\u001b[1m158/158\u001b[0m \u001b[32m━━━━━━━━━━━━━━━━━━━━\u001b[0m\u001b[37m\u001b[0m \u001b[1m0s\u001b[0m 704us/step - accuracy: 0.6812 - loss: 0.7567 - val_accuracy: 0.7193 - val_loss: 0.7106 - learning_rate: 0.0010\n",
      "Epoch 26/80\n",
      "\u001b[1m158/158\u001b[0m \u001b[32m━━━━━━━━━━━━━━━━━━━━\u001b[0m\u001b[37m\u001b[0m \u001b[1m0s\u001b[0m 676us/step - accuracy: 0.6762 - loss: 0.7633 - val_accuracy: 0.7181 - val_loss: 0.7057 - learning_rate: 0.0010\n",
      "Epoch 27/80\n",
      "\u001b[1m158/158\u001b[0m \u001b[32m━━━━━━━━━━━━━━━━━━━━\u001b[0m\u001b[37m\u001b[0m \u001b[1m0s\u001b[0m 660us/step - accuracy: 0.6878 - loss: 0.7472 - val_accuracy: 0.7170 - val_loss: 0.7014 - learning_rate: 0.0010\n",
      "Epoch 28/80\n",
      "\u001b[1m158/158\u001b[0m \u001b[32m━━━━━━━━━━━━━━━━━━━━\u001b[0m\u001b[37m\u001b[0m \u001b[1m0s\u001b[0m 682us/step - accuracy: 0.6867 - loss: 0.7444 - val_accuracy: 0.7221 - val_loss: 0.6976 - learning_rate: 0.0010\n",
      "Epoch 29/80\n",
      "\u001b[1m158/158\u001b[0m \u001b[32m━━━━━━━━━━━━━━━━━━━━\u001b[0m\u001b[37m\u001b[0m \u001b[1m0s\u001b[0m 676us/step - accuracy: 0.6855 - loss: 0.7541 - val_accuracy: 0.7250 - val_loss: 0.6937 - learning_rate: 0.0010\n",
      "Epoch 30/80\n",
      "\u001b[1m158/158\u001b[0m \u001b[32m━━━━━━━━━━━━━━━━━━━━\u001b[0m\u001b[37m\u001b[0m \u001b[1m0s\u001b[0m 673us/step - accuracy: 0.6905 - loss: 0.7415 - val_accuracy: 0.7221 - val_loss: 0.6897 - learning_rate: 0.0010\n",
      "Epoch 31/80\n",
      "\u001b[1m158/158\u001b[0m \u001b[32m━━━━━━━━━━━━━━━━━━━━\u001b[0m\u001b[37m\u001b[0m \u001b[1m0s\u001b[0m 663us/step - accuracy: 0.7015 - loss: 0.7235 - val_accuracy: 0.7210 - val_loss: 0.6867 - learning_rate: 0.0010\n",
      "Epoch 32/80\n",
      "\u001b[1m158/158\u001b[0m \u001b[32m━━━━━━━━━━━━━━━━━━━━\u001b[0m\u001b[37m\u001b[0m \u001b[1m0s\u001b[0m 669us/step - accuracy: 0.6975 - loss: 0.7312 - val_accuracy: 0.7238 - val_loss: 0.6836 - learning_rate: 0.0010\n",
      "Epoch 33/80\n",
      "\u001b[1m158/158\u001b[0m \u001b[32m━━━━━━━━━━━━━━━━━━━━\u001b[0m\u001b[37m\u001b[0m \u001b[1m0s\u001b[0m 714us/step - accuracy: 0.6995 - loss: 0.7279 - val_accuracy: 0.7233 - val_loss: 0.6809 - learning_rate: 0.0010\n",
      "Epoch 34/80\n",
      "\u001b[1m158/158\u001b[0m \u001b[32m━━━━━━━━━━━━━━━━━━━━\u001b[0m\u001b[37m\u001b[0m \u001b[1m0s\u001b[0m 676us/step - accuracy: 0.6995 - loss: 0.7266 - val_accuracy: 0.7238 - val_loss: 0.6783 - learning_rate: 0.0010\n",
      "Epoch 35/80\n",
      "\u001b[1m158/158\u001b[0m \u001b[32m━━━━━━━━━━━━━━━━━━━━\u001b[0m\u001b[37m\u001b[0m \u001b[1m0s\u001b[0m 653us/step - accuracy: 0.7018 - loss: 0.7164 - val_accuracy: 0.7221 - val_loss: 0.6755 - learning_rate: 0.0010\n",
      "Epoch 36/80\n",
      "\u001b[1m158/158\u001b[0m \u001b[32m━━━━━━━━━━━━━━━━━━━━\u001b[0m\u001b[37m\u001b[0m \u001b[1m0s\u001b[0m 663us/step - accuracy: 0.7037 - loss: 0.7133 - val_accuracy: 0.7210 - val_loss: 0.6734 - learning_rate: 0.0010\n",
      "Epoch 37/80\n",
      "\u001b[1m158/158\u001b[0m \u001b[32m━━━━━━━━━━━━━━━━━━━━\u001b[0m\u001b[37m\u001b[0m \u001b[1m0s\u001b[0m 653us/step - accuracy: 0.7033 - loss: 0.7220 - val_accuracy: 0.7238 - val_loss: 0.6712 - learning_rate: 0.0010\n",
      "Epoch 38/80\n",
      "\u001b[1m158/158\u001b[0m \u001b[32m━━━━━━━━━━━━━━━━━━━━\u001b[0m\u001b[37m\u001b[0m \u001b[1m0s\u001b[0m 640us/step - accuracy: 0.7051 - loss: 0.7192 - val_accuracy: 0.7250 - val_loss: 0.6698 - learning_rate: 0.0010\n",
      "Epoch 39/80\n",
      "\u001b[1m158/158\u001b[0m \u001b[32m━━━━━━━━━━━━━━━━━━━━\u001b[0m\u001b[37m\u001b[0m \u001b[1m0s\u001b[0m 650us/step - accuracy: 0.7014 - loss: 0.7080 - val_accuracy: 0.7250 - val_loss: 0.6679 - learning_rate: 0.0010\n",
      "Epoch 40/80\n",
      "\u001b[1m158/158\u001b[0m \u001b[32m━━━━━━━━━━━━━━━━━━━━\u001b[0m\u001b[37m\u001b[0m \u001b[1m0s\u001b[0m 695us/step - accuracy: 0.7090 - loss: 0.7085 - val_accuracy: 0.7256 - val_loss: 0.6661 - learning_rate: 0.0010\n",
      "Epoch 41/80\n",
      "\u001b[1m158/158\u001b[0m \u001b[32m━━━━━━━━━━━━━━━━━━━━\u001b[0m\u001b[37m\u001b[0m \u001b[1m0s\u001b[0m 727us/step - accuracy: 0.7032 - loss: 0.7036 - val_accuracy: 0.7256 - val_loss: 0.6651 - learning_rate: 0.0010\n",
      "Epoch 42/80\n",
      "\u001b[1m158/158\u001b[0m \u001b[32m━━━━━━━━━━━━━━━━━━━━\u001b[0m\u001b[37m\u001b[0m \u001b[1m0s\u001b[0m 695us/step - accuracy: 0.7046 - loss: 0.7083 - val_accuracy: 0.7250 - val_loss: 0.6636 - learning_rate: 0.0010\n",
      "Epoch 43/80\n",
      "\u001b[1m158/158\u001b[0m \u001b[32m━━━━━━━━━━━━━━━━━━━━\u001b[0m\u001b[37m\u001b[0m \u001b[1m0s\u001b[0m 691us/step - accuracy: 0.7102 - loss: 0.6934 - val_accuracy: 0.7284 - val_loss: 0.6626 - learning_rate: 0.0010\n",
      "Epoch 44/80\n",
      "\u001b[1m158/158\u001b[0m \u001b[32m━━━━━━━━━━━━━━━━━━━━\u001b[0m\u001b[37m\u001b[0m \u001b[1m0s\u001b[0m 730us/step - accuracy: 0.7121 - loss: 0.6969 - val_accuracy: 0.7290 - val_loss: 0.6618 - learning_rate: 0.0010\n",
      "Epoch 45/80\n",
      "\u001b[1m158/158\u001b[0m \u001b[32m━━━━━━━━━━━━━━━━━━━━\u001b[0m\u001b[37m\u001b[0m \u001b[1m0s\u001b[0m 692us/step - accuracy: 0.7108 - loss: 0.6957 - val_accuracy: 0.7278 - val_loss: 0.6602 - learning_rate: 0.0010\n",
      "Epoch 46/80\n",
      "\u001b[1m158/158\u001b[0m \u001b[32m━━━━━━━━━━━━━━━━━━━━\u001b[0m\u001b[37m\u001b[0m \u001b[1m0s\u001b[0m 685us/step - accuracy: 0.7149 - loss: 0.6900 - val_accuracy: 0.7290 - val_loss: 0.6594 - learning_rate: 0.0010\n",
      "Epoch 47/80\n",
      "\u001b[1m158/158\u001b[0m \u001b[32m━━━━━━━━━━━━━━━━━━━━\u001b[0m\u001b[37m\u001b[0m \u001b[1m0s\u001b[0m 743us/step - accuracy: 0.7116 - loss: 0.6956 - val_accuracy: 0.7284 - val_loss: 0.6584 - learning_rate: 0.0010\n",
      "Epoch 48/80\n",
      "\u001b[1m158/158\u001b[0m \u001b[32m━━━━━━━━━━━━━━━━━━━━\u001b[0m\u001b[37m\u001b[0m \u001b[1m0s\u001b[0m 714us/step - accuracy: 0.7180 - loss: 0.6945 - val_accuracy: 0.7278 - val_loss: 0.6577 - learning_rate: 0.0010\n",
      "Epoch 49/80\n",
      "\u001b[1m158/158\u001b[0m \u001b[32m━━━━━━━━━━━━━━━━━━━━\u001b[0m\u001b[37m\u001b[0m \u001b[1m0s\u001b[0m 682us/step - accuracy: 0.7137 - loss: 0.6819 - val_accuracy: 0.7284 - val_loss: 0.6565 - learning_rate: 0.0010\n",
      "Epoch 50/80\n",
      "\u001b[1m158/158\u001b[0m \u001b[32m━━━━━━━━━━━━━━━━━━━━\u001b[0m\u001b[37m\u001b[0m \u001b[1m0s\u001b[0m 701us/step - accuracy: 0.7138 - loss: 0.6888 - val_accuracy: 0.7290 - val_loss: 0.6555 - learning_rate: 0.0010\n",
      "Epoch 51/80\n",
      "\u001b[1m158/158\u001b[0m \u001b[32m━━━━━━━━━━━━━━━━━━━━\u001b[0m\u001b[37m\u001b[0m \u001b[1m0s\u001b[0m 676us/step - accuracy: 0.7143 - loss: 0.6770 - val_accuracy: 0.7290 - val_loss: 0.6543 - learning_rate: 0.0010\n",
      "Epoch 52/80\n",
      "\u001b[1m158/158\u001b[0m \u001b[32m━━━━━━━━━━━━━━━━━━━━\u001b[0m\u001b[37m\u001b[0m \u001b[1m0s\u001b[0m 714us/step - accuracy: 0.7081 - loss: 0.6964 - val_accuracy: 0.7290 - val_loss: 0.6533 - learning_rate: 0.0010\n",
      "Epoch 53/80\n",
      "\u001b[1m158/158\u001b[0m \u001b[32m━━━━━━━━━━━━━━━━━━━━\u001b[0m\u001b[37m\u001b[0m \u001b[1m0s\u001b[0m 666us/step - accuracy: 0.7110 - loss: 0.6912 - val_accuracy: 0.7284 - val_loss: 0.6526 - learning_rate: 0.0010\n",
      "Epoch 54/80\n",
      "\u001b[1m158/158\u001b[0m \u001b[32m━━━━━━━━━━━━━━━━━━━━\u001b[0m\u001b[37m\u001b[0m \u001b[1m0s\u001b[0m 679us/step - accuracy: 0.7090 - loss: 0.6837 - val_accuracy: 0.7278 - val_loss: 0.6520 - learning_rate: 0.0010\n",
      "Epoch 55/80\n",
      "\u001b[1m158/158\u001b[0m \u001b[32m━━━━━━━━━━━━━━━━━━━━\u001b[0m\u001b[37m\u001b[0m \u001b[1m0s\u001b[0m 676us/step - accuracy: 0.7118 - loss: 0.6818 - val_accuracy: 0.7296 - val_loss: 0.6515 - learning_rate: 0.0010\n",
      "Epoch 56/80\n",
      "\u001b[1m158/158\u001b[0m \u001b[32m━━━━━━━━━━━━━━━━━━━━\u001b[0m\u001b[37m\u001b[0m \u001b[1m0s\u001b[0m 673us/step - accuracy: 0.7131 - loss: 0.6819 - val_accuracy: 0.7290 - val_loss: 0.6510 - learning_rate: 0.0010\n",
      "Epoch 57/80\n",
      "\u001b[1m158/158\u001b[0m \u001b[32m━━━━━━━━━━━━━━━━━━━━\u001b[0m\u001b[37m\u001b[0m \u001b[1m0s\u001b[0m 688us/step - accuracy: 0.7209 - loss: 0.6726 - val_accuracy: 0.7307 - val_loss: 0.6504 - learning_rate: 0.0010\n",
      "Epoch 58/80\n",
      "\u001b[1m158/158\u001b[0m \u001b[32m━━━━━━━━━━━━━━━━━━━━\u001b[0m\u001b[37m\u001b[0m \u001b[1m0s\u001b[0m 676us/step - accuracy: 0.7129 - loss: 0.6852 - val_accuracy: 0.7290 - val_loss: 0.6496 - learning_rate: 0.0010\n",
      "Epoch 59/80\n",
      "\u001b[1m158/158\u001b[0m \u001b[32m━━━━━━━━━━━━━━━━━━━━\u001b[0m\u001b[37m\u001b[0m \u001b[1m0s\u001b[0m 698us/step - accuracy: 0.7151 - loss: 0.6912 - val_accuracy: 0.7296 - val_loss: 0.6486 - learning_rate: 0.0010\n",
      "Epoch 60/80\n",
      "\u001b[1m158/158\u001b[0m \u001b[32m━━━━━━━━━━━━━━━━━━━━\u001b[0m\u001b[37m\u001b[0m \u001b[1m0s\u001b[0m 692us/step - accuracy: 0.7170 - loss: 0.6804 - val_accuracy: 0.7273 - val_loss: 0.6486 - learning_rate: 0.0010\n",
      "Epoch 61/80\n",
      "\u001b[1m158/158\u001b[0m \u001b[32m━━━━━━━━━━━━━━━━━━━━\u001b[0m\u001b[37m\u001b[0m \u001b[1m0s\u001b[0m 682us/step - accuracy: 0.7122 - loss: 0.6747 - val_accuracy: 0.7256 - val_loss: 0.6482 - learning_rate: 0.0010\n",
      "Epoch 62/80\n",
      "\u001b[1m158/158\u001b[0m \u001b[32m━━━━━━━━━━━━━━━━━━━━\u001b[0m\u001b[37m\u001b[0m \u001b[1m0s\u001b[0m 701us/step - accuracy: 0.7144 - loss: 0.6795 - val_accuracy: 0.7284 - val_loss: 0.6475 - learning_rate: 0.0010\n",
      "Epoch 63/80\n",
      "\u001b[1m158/158\u001b[0m \u001b[32m━━━━━━━━━━━━━━━━━━━━\u001b[0m\u001b[37m\u001b[0m \u001b[1m0s\u001b[0m 704us/step - accuracy: 0.7146 - loss: 0.6759 - val_accuracy: 0.7284 - val_loss: 0.6470 - learning_rate: 0.0010\n",
      "Epoch 64/80\n",
      "\u001b[1m158/158\u001b[0m \u001b[32m━━━━━━━━━━━━━━━━━━━━\u001b[0m\u001b[37m\u001b[0m \u001b[1m0s\u001b[0m 695us/step - accuracy: 0.7198 - loss: 0.6634 - val_accuracy: 0.7296 - val_loss: 0.6462 - learning_rate: 0.0010\n",
      "Epoch 65/80\n",
      "\u001b[1m158/158\u001b[0m \u001b[32m━━━━━━━━━━━━━━━━━━━━\u001b[0m\u001b[37m\u001b[0m \u001b[1m0s\u001b[0m 669us/step - accuracy: 0.7151 - loss: 0.6689 - val_accuracy: 0.7284 - val_loss: 0.6465 - learning_rate: 0.0010\n",
      "Epoch 66/80\n",
      "\u001b[1m158/158\u001b[0m \u001b[32m━━━━━━━━━━━━━━━━━━━━\u001b[0m\u001b[37m\u001b[0m \u001b[1m0s\u001b[0m 713us/step - accuracy: 0.7217 - loss: 0.6615 - val_accuracy: 0.7267 - val_loss: 0.6456 - learning_rate: 0.0010\n",
      "Epoch 67/80\n",
      "\u001b[1m158/158\u001b[0m \u001b[32m━━━━━━━━━━━━━━━━━━━━\u001b[0m\u001b[37m\u001b[0m \u001b[1m0s\u001b[0m 704us/step - accuracy: 0.7155 - loss: 0.6740 - val_accuracy: 0.7267 - val_loss: 0.6447 - learning_rate: 0.0010\n",
      "Epoch 68/80\n",
      "\u001b[1m158/158\u001b[0m \u001b[32m━━━━━━━━━━━━━━━━━━━━\u001b[0m\u001b[37m\u001b[0m \u001b[1m0s\u001b[0m 718us/step - accuracy: 0.7223 - loss: 0.6609 - val_accuracy: 0.7267 - val_loss: 0.6443 - learning_rate: 0.0010\n",
      "Epoch 69/80\n",
      "\u001b[1m158/158\u001b[0m \u001b[32m━━━━━━━━━━━━━━━━━━━━\u001b[0m\u001b[37m\u001b[0m \u001b[1m0s\u001b[0m 688us/step - accuracy: 0.7216 - loss: 0.6541 - val_accuracy: 0.7284 - val_loss: 0.6444 - learning_rate: 0.0010\n",
      "Epoch 70/80\n",
      "\u001b[1m158/158\u001b[0m \u001b[32m━━━━━━━━━━━━━━━━━━━━\u001b[0m\u001b[37m\u001b[0m \u001b[1m0s\u001b[0m 685us/step - accuracy: 0.7172 - loss: 0.6700 - val_accuracy: 0.7290 - val_loss: 0.6433 - learning_rate: 0.0010\n",
      "Epoch 71/80\n",
      "\u001b[1m158/158\u001b[0m \u001b[32m━━━━━━━━━━━━━━━━━━━━\u001b[0m\u001b[37m\u001b[0m \u001b[1m0s\u001b[0m 679us/step - accuracy: 0.7185 - loss: 0.6671 - val_accuracy: 0.7296 - val_loss: 0.6429 - learning_rate: 0.0010\n",
      "Epoch 72/80\n",
      "\u001b[1m158/158\u001b[0m \u001b[32m━━━━━━━━━━━━━━━━━━━━\u001b[0m\u001b[37m\u001b[0m \u001b[1m0s\u001b[0m 666us/step - accuracy: 0.7173 - loss: 0.6637 - val_accuracy: 0.7284 - val_loss: 0.6423 - learning_rate: 0.0010\n",
      "Epoch 73/80\n",
      "\u001b[1m158/158\u001b[0m \u001b[32m━━━━━━━━━━━━━━━━━━━━\u001b[0m\u001b[37m\u001b[0m \u001b[1m0s\u001b[0m 672us/step - accuracy: 0.7126 - loss: 0.6676 - val_accuracy: 0.7301 - val_loss: 0.6417 - learning_rate: 0.0010\n",
      "Epoch 74/80\n",
      "\u001b[1m158/158\u001b[0m \u001b[32m━━━━━━━━━━━━━━━━━━━━\u001b[0m\u001b[37m\u001b[0m \u001b[1m0s\u001b[0m 695us/step - accuracy: 0.7193 - loss: 0.6572 - val_accuracy: 0.7244 - val_loss: 0.6421 - learning_rate: 0.0010\n",
      "Epoch 75/80\n",
      "\u001b[1m158/158\u001b[0m \u001b[32m━━━━━━━━━━━━━━━━━━━━\u001b[0m\u001b[37m\u001b[0m \u001b[1m0s\u001b[0m 711us/step - accuracy: 0.7152 - loss: 0.6727 - val_accuracy: 0.7290 - val_loss: 0.6411 - learning_rate: 0.0010\n",
      "Epoch 76/80\n",
      "\u001b[1m158/158\u001b[0m \u001b[32m━━━━━━━━━━━━━━━━━━━━\u001b[0m\u001b[37m\u001b[0m \u001b[1m0s\u001b[0m 727us/step - accuracy: 0.7239 - loss: 0.6567 - val_accuracy: 0.7284 - val_loss: 0.6405 - learning_rate: 0.0010\n",
      "Epoch 77/80\n",
      "\u001b[1m158/158\u001b[0m \u001b[32m━━━━━━━━━━━━━━━━━━━━\u001b[0m\u001b[37m\u001b[0m \u001b[1m0s\u001b[0m 660us/step - accuracy: 0.7217 - loss: 0.6592 - val_accuracy: 0.7250 - val_loss: 0.6408 - learning_rate: 0.0010\n",
      "Epoch 78/80\n",
      "\u001b[1m158/158\u001b[0m \u001b[32m━━━━━━━━━━━━━━━━━━━━\u001b[0m\u001b[37m\u001b[0m \u001b[1m0s\u001b[0m 669us/step - accuracy: 0.7213 - loss: 0.6556 - val_accuracy: 0.7284 - val_loss: 0.6398 - learning_rate: 0.0010\n",
      "Epoch 79/80\n",
      "\u001b[1m158/158\u001b[0m \u001b[32m━━━━━━━━━━━━━━━━━━━━\u001b[0m\u001b[37m\u001b[0m \u001b[1m0s\u001b[0m 672us/step - accuracy: 0.7127 - loss: 0.6591 - val_accuracy: 0.7290 - val_loss: 0.6392 - learning_rate: 0.0010\n",
      "Epoch 80/80\n",
      "\u001b[1m158/158\u001b[0m \u001b[32m━━━━━━━━━━━━━━━━━━━━\u001b[0m\u001b[37m\u001b[0m \u001b[1m0s\u001b[0m 714us/step - accuracy: 0.7212 - loss: 0.6605 - val_accuracy: 0.7221 - val_loss: 0.6395 - learning_rate: 0.0010\n"
     ]
    }
   ],
   "source": [
    "# Train Model\n",
    "\n",
    "# Batch Size of 32, Epochs of 80\n",
    "# history = model.fit(train_x, train_y, epochs=80, batch_size=32, validation_data=(valid_x, valid_y), callbacks=[reduce_lr])\n",
    "\n",
    "# Batch size of 100, epochs of 80\n",
    "history = model.fit(train_x, train_y, epochs=80, batch_size=100, validation_data=(valid_x, valid_y), callbacks=[reduce_lr])"
   ]
  },
  {
   "cell_type": "code",
   "execution_count": 117,
   "metadata": {},
   "outputs": [
    {
     "name": "stdout",
     "output_type": "stream",
     "text": [
      "\u001b[1m55/55\u001b[0m \u001b[32m━━━━━━━━━━━━━━━━━━━━\u001b[0m\u001b[37m\u001b[0m \u001b[1m0s\u001b[0m 407us/step - accuracy: 0.7203 - loss: 0.6536\n",
      "Test Loss: 0.6394618153572083, Test Accuracy: 0.7221269011497498\n"
     ]
    }
   ],
   "source": [
    "# Quick Evaluation\n",
    "test_loss, test_acc = model.evaluate(valid_x, valid_y)\n",
    "print(f\"Test Loss: {test_loss}, Test Accuracy: {test_acc}\")"
   ]
  },
  {
   "cell_type": "code",
   "execution_count": 118,
   "metadata": {},
   "outputs": [
    {
     "name": "stdout",
     "output_type": "stream",
     "text": [
      "\u001b[1m55/55\u001b[0m \u001b[32m━━━━━━━━━━━━━━━━━━━━\u001b[0m\u001b[37m\u001b[0m \u001b[1m0s\u001b[0m 476us/step - accuracy: 0.7203 - loss: 0.6536\n",
      "\u001b[1m55/55\u001b[0m \u001b[32m━━━━━━━━━━━━━━━━━━━━\u001b[0m\u001b[37m\u001b[0m \u001b[1m0s\u001b[0m 426us/step - accuracy: 0.6778 - loss: 0.7155\n"
     ]
    }
   ],
   "source": [
    "# Test Script to Save and Load Moel for Testing\n",
    "model.save('models/neural_network_model.keras') # save model\n",
    "loaded_model = load_model('models/neural_network_model.keras') # load model\n",
    "\n",
    "# Evaluate on validation set\n",
    "test_loss, test_acc = loaded_model.evaluate(valid_x, valid_y)\n",
    "\n",
    "test_loss, test_accuracy = model.evaluate(test_x, test_y)\n",
    "\n",
    "\n"
   ]
  },
  {
   "cell_type": "code",
   "execution_count": 119,
   "metadata": {},
   "outputs": [
    {
     "data": {
      "image/png": "[encoded data removed]",
      "text/plain": [
       "<Figure size 640x480 with 1 Axes>"
      ]
     },
     "metadata": {},
     "output_type": "display_data"
    },
    {
     "data": {
      "image/png": "[encoded data removed]",
      "text/plain": [
       "<Figure size 640x480 with 1 Axes>"
      ]
     },
     "metadata": {},
     "output_type": "display_data"
    },
    {
     "data": {
      "image/png": "[encoded data removed]",
      "text/plain": [
       "<Figure size 640x480 with 1 Axes>"
      ]
     },
     "metadata": {},
     "output_type": "display_data"
    }
   ],
   "source": [
    "# Visualize Results\n",
    "\n",
    "# Plot training, validation, and test accuracy values\n",
    "plt.plot(history.history['accuracy'], label='Train')\n",
    "plt.plot(history.history['val_accuracy'], label='Validation')\n",
    "plt.plot([test_acc]*len(history.history['accuracy']), label='Test', linestyle='--')\n",
    "plt.title('Model Accuracy (Train, Validation, and Test)')\n",
    "plt.ylabel('Accuracy')\n",
    "plt.xlabel('Epoch')\n",
    "plt.legend(loc='upper left')\n",
    "plt.show()\n",
    "\n",
    "\n",
    "# Plot training and validation loss values\n",
    "plt.plot(history.history['loss'], label='Training Loss')\n",
    "plt.plot(history.history['val_loss'], label='Validation Loss')\n",
    "plt.title('Loss over Epochs')\n",
    "plt.ylabel('Loss')\n",
    "plt.xlabel('Epoch')\n",
    "plt.legend(loc='upper left')\n",
    "plt.show()\n",
    "\n",
    "\n",
    "# Plot validation and test loss values\n",
    "plt.plot(history.history['val_loss'], label='Validation Loss')\n",
    "plt.axhline(y=test_loss, color='r', linestyle='--', label='Test Loss')\n",
    "plt.title('Model Loss Progression (Validation and Test)')\n",
    "plt.ylabel('Loss')\n",
    "plt.xlabel('Epoch')\n",
    "plt.legend(loc='upper left')\n",
    "plt.show()\n",
    "\n"
   ]
  },
  {
   "cell_type": "markdown",
   "metadata": {},
   "source": [
    "<h1>Results</h1>\n"
   ]
  },
  {
   "cell_type": "markdown",
   "metadata": {},
   "source": [
    "\n",
    "\n",
    "The following graphs are for the base run of the project. Throughout the training, I implemented learning rate reduction technique with the hopes of reducing plateus that occur during the learning process.  The structure of the run is as follows.\n",
    "\n",
    "- Run: Base\n",
    "- Normalization: Yes\n",
    "- Batch Size: 32\n",
    "- Epochs: 80\n",
    "- Learning Rate: 0.01\n",
    "- Optimizer: Adam\n",
    "- Initialization: Random\n",
    "- Regularization: No\n",
    "<h3>Graphs</h3>\n",
    "<img src=\"Images/Base Run Model Accuracy.png\">\n",
    "<img src=\"Images/Base Run Loss.png\">\n",
    "<img src=\"Images/Base Model Loss Progression.png\">\n",
    "\n",
    "<h2>Observations</h2>\n",
    "<h3>Accuracy</h3>\n",
    "Looking at the graph, it can be observed that the model's training accuracy steadily increases throughout each epoch, Indicating that the model is learning effectively from the data. It can also be observed that during the upward trend of the graph, the fluctuations becoem less and less pronounced. This indicates that the model is generalizing well to unseen validation data. By epoch 40, training and validation accuracies seems to stabalize, with the model acheiving around a 76% accuracy. \n",
    "<h3>Loss over Epochs</h3>\n",
    "In this graph, the training loss shows a consistent downward trend, indicating that the model is minimizing its errors over time. The validation loss decreases similarly, although with higher fluctiations during the early epochs. Since the gap between training and validation loss is not significant, it can be assumed that the model is not overfitting to the training data. \n",
    "<h3>Model Loss Progression</h3>\n",
    "In this graph, it can be observed that the validation loss decreases steadily, while the test loss remains constant. This suggests that the model has learned effectively from the training data and has generalized well to my unseen test data. "
   ]
  },
  {
   "cell_type": "markdown",
   "metadata": {},
   "source": [
    "<h2>Run 2</h2>\n",
    "\n",
    "\n",
    "- Run: 2\n",
    "- Normalization: No\n",
    "- Batch Size: 32\n",
    "- Epochs: 80\n",
    "- Learning Rate: 0.01\n",
    "- Optimizer: Adam\n",
    "- Initialization: Random\n",
    "- Regularization: Yes\n",
    "<h3>Graphs</h3>\n",
    "<img src=\"Images/Run 2 Accuracy.png\">\n",
    "<img src=\"Images/Run 2 Loss.png\">\n",
    "<img src=\"Images/Run 2 Loss Progression.png\">\n",
    "\n",
    "<h2>Observations</h2>\n",
    "<h3>Accuracy</h3>\n",
    "The accuracy graph improves dramatically during the first few epochs. However, it seems to flatline after about 20 epochs, indicating that the model may not be learning effectively beyond a certain point. \n",
    "<h3>Loss over Epochs</h3>\n",
    "The training and validation losses improve steadily during the first few epochs, but plateu around 0.72. This may suggest that the learning has slowed down too early. \n",
    "<h3>Model Loss Progression</h3>\n",
    "The test loss flatlines at around 0.74. This suggests that this model configuration is not learning much from the training process after a certain point. "
   ]
  },
  {
   "cell_type": "markdown",
   "metadata": {},
   "source": [
    "\n",
    "<h2>Run 3</h2>\n",
    "\n",
    "- Run:3\n",
    "- Normalization: Yes\n",
    "- Batch Size: 100\n",
    "- Epochs: 80\n",
    "- Learning Rate: 0.0001\n",
    "- Optimizer: Momentum\n",
    "- Initialization:Xavier\n",
    "- Regularization:No\n",
    "<h3>Graphs</h3>\n",
    "<img src=\"Images/Run 3 Accuracy.png\">\n",
    "<img src=\"Images/Run 3 Loss.png\">\n",
    "<img src=\"Images/Run 3 Loss Progression.png\">\n",
    "\n",
    "<h2>Observations</h2>\n",
    "<h3>Accuracy</h3>\n",
    "In this run, the accuracy shows a noticable increase compared to the previous run. The validation accuracy increases rapidly, plateuing near 0.75, while the test accuracy remains stable at around 0.72. This suggests that the model is learning more effectively in this configuration.\n",
    "<h3>Loss over Epochs</h3>\n",
    "Similarly with the accuracy graph, the loss over epochs shows significant improvement for both training and validation. They both decrease steadily over the epochs with validation loss plateuing around 0.65. This indicates that the model is converging well with this learning rate. However, the diffrence between training and validation loss is still present. This may indicate potential overfitting. \n",
    "<h3>Model Loss Progression</h3>\n",
    "The test loss remains stable around 0.65, which suggests that the model is generalizing better to the test set with this configuration."
   ]
  },
  {
   "cell_type": "markdown",
   "metadata": {},
   "source": [
    "<h2>\n",
    "Run 4\n",
    "</h2>\n",
    "\n",
    "\n",
    "- Run: 4\n",
    "- Normalization: No\n",
    "- Batch Size: 100\n",
    "- Epochs: 80\n",
    "- Learning Rate: 0.01\n",
    "- Optimizer: Momentum\n",
    "- Initialization: Xavier\n",
    "- Regularization: Yes\n",
    "<h3>Graphs</h3>\n",
    "<img src=\"\">\n",
    "<img src=\"\">\n",
    "<img src=\"\">\n",
    "\n",
    "<h2>Observations</h2>\n",
    "<h3>Accuracy</h3>\n",
    "\n",
    "<h3>Loss over Epochs</h3>\n",
    "\n",
    "<h3>Model Loss Progression</h3>\n"
   ]
  },
  {
   "cell_type": "markdown",
   "metadata": {},
   "source": [
    "<h2>\n",
    "PlaceHolder\n",
    "</h2>\n",
    "\n",
    "\n",
    "- Run:\n",
    "- Normalization:\n",
    "- Batch Size:\n",
    "- Epochs:\n",
    "- Learning Rate:\n",
    "- Optimizer:\n",
    "- Initialization:\n",
    "- Regularization:\n",
    "<h3>Graphs</h3>\n",
    "<img src=\"\">\n",
    "<img src=\"\">\n",
    "<img src=\"\">\n",
    "\n",
    "<h2>Observations</h2>\n",
    "<h3>Accuracy</h3>\n",
    "\n",
    "<h3>Loss over Epochs</h3>\n",
    "\n",
    "<h3>Model Loss Progression</h3>\n"
   ]
  }
 ],
 "metadata": {
  "kernelspec": {
   "display_name": "Python 3",
   "language": "python",
   "name": "python3"
  },
  "language_info": {
   "codemirror_mode": {
    "name": "ipython",
    "version": 3
   },
   "file_extension": ".py",
   "mimetype": "text/x-python",
   "name": "python",
   "nbconvert_exporter": "python",
   "pygments_lexer": "ipython3",
   "version": "3.10.9"
  }
 },
 "nbformat": 4,
 "nbformat_minor": 2
}
