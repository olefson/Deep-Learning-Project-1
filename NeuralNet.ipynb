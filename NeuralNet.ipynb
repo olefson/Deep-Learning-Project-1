{
 "cells": [
  {
   "cell_type": "code",
   "execution_count": 224,
   "metadata": {},
   "outputs": [
    {
     "name": "stdout",
     "output_type": "stream",
     "text": [
      "TensorFlow version: 2.17.0\n"
     ]
    }
   ],
   "source": [
    "# Imports\n",
    "import tensorflow as tf\n",
    "from tensorflow.keras.callbacks import ReduceLROnPlateau\n",
    "from tensorflow.keras import regularizers\n",
    "from tensorflow.keras.models import Sequential\n",
    "from tensorflow.keras.optimizers import Adam, SGD\n",
    "from tensorflow.keras.layers import Dense, Dropout, Input\n",
    "from tensorflow.keras.initializers import GlorotUniform, RandomNormal\n",
    "from tensorflow.keras.models import load_model\n",
    "print (\"TensorFlow version: \" + tf.__version__)\n",
    "import numpy as np\n",
    "import matplotlib.pyplot as plt\n",
    "import pandas as pd\n",
    "import random\n",
    "import glob\n",
    "import os\n",
    "from sklearn.utils import class_weight\n",
    "from sklearn.preprocessing import StandardScaler\n",
    "from sklearn.utils import shuffle\n",
    "from sklearn.model_selection import train_test_split\n"
   ]
  },
  {
   "cell_type": "markdown",
   "metadata": {},
   "source": [
    "Load Dataset\n",
    " Each File has 31 rows and 4 columns. The first 3 columns indicate heart rate, respiratory rate, and oxygen saturation of a baby; the last column indicates if the baby is in pain or not (0 means no pain, 1 means slight pain, 2 means severe pain, # means label is missing).\n"
   ]
  },
  {
   "cell_type": "code",
   "execution_count": 225,
   "metadata": {},
   "outputs": [
    {
     "data": {
      "text/html": [
       "<div>\n",
       "<style scoped>\n",
       "    .dataframe tbody tr th:only-of-type {\n",
       "        vertical-align: middle;\n",
       "    }\n",
       "\n",
       "    .dataframe tbody tr th {\n",
       "        vertical-align: top;\n",
       "    }\n",
       "\n",
       "    .dataframe thead th {\n",
       "        text-align: right;\n",
       "    }\n",
       "</style>\n",
       "<table border=\"1\" class=\"dataframe\">\n",
       "  <thead>\n",
       "    <tr style=\"text-align: right;\">\n",
       "      <th></th>\n",
       "      <th>1</th>\n",
       "      <th>2</th>\n",
       "      <th>3</th>\n",
       "      <th>4</th>\n",
       "    </tr>\n",
       "  </thead>\n",
       "  <tbody>\n",
       "    <tr>\n",
       "      <th>0</th>\n",
       "      <td>142</td>\n",
       "      <td>60</td>\n",
       "      <td>100</td>\n",
       "      <td>0</td>\n",
       "    </tr>\n",
       "    <tr>\n",
       "      <th>1</th>\n",
       "      <td>142</td>\n",
       "      <td>60</td>\n",
       "      <td>100</td>\n",
       "      <td>0</td>\n",
       "    </tr>\n",
       "    <tr>\n",
       "      <th>2</th>\n",
       "      <td>142</td>\n",
       "      <td>60</td>\n",
       "      <td>100</td>\n",
       "      <td>0</td>\n",
       "    </tr>\n",
       "    <tr>\n",
       "      <th>3</th>\n",
       "      <td>142</td>\n",
       "      <td>59</td>\n",
       "      <td>100</td>\n",
       "      <td>0</td>\n",
       "    </tr>\n",
       "    <tr>\n",
       "      <th>4</th>\n",
       "      <td>143</td>\n",
       "      <td>59</td>\n",
       "      <td>100</td>\n",
       "      <td>0</td>\n",
       "    </tr>\n",
       "    <tr>\n",
       "      <th>...</th>\n",
       "      <td>...</td>\n",
       "      <td>...</td>\n",
       "      <td>...</td>\n",
       "      <td>...</td>\n",
       "    </tr>\n",
       "    <tr>\n",
       "      <th>18657</th>\n",
       "      <td>169</td>\n",
       "      <td>19</td>\n",
       "      <td>98</td>\n",
       "      <td>1</td>\n",
       "    </tr>\n",
       "    <tr>\n",
       "      <th>18658</th>\n",
       "      <td>164</td>\n",
       "      <td>50</td>\n",
       "      <td>98</td>\n",
       "      <td>1</td>\n",
       "    </tr>\n",
       "    <tr>\n",
       "      <th>18659</th>\n",
       "      <td>164</td>\n",
       "      <td>74</td>\n",
       "      <td>98</td>\n",
       "      <td>1</td>\n",
       "    </tr>\n",
       "    <tr>\n",
       "      <th>18660</th>\n",
       "      <td>162</td>\n",
       "      <td>39</td>\n",
       "      <td>99</td>\n",
       "      <td>1</td>\n",
       "    </tr>\n",
       "    <tr>\n",
       "      <th>18661</th>\n",
       "      <td>167</td>\n",
       "      <td>13</td>\n",
       "      <td>99</td>\n",
       "      <td>1</td>\n",
       "    </tr>\n",
       "  </tbody>\n",
       "</table>\n",
       "<p>17483 rows × 4 columns</p>\n",
       "</div>"
      ],
      "text/plain": [
       "         1   2    3  4\n",
       "0      142  60  100  0\n",
       "1      142  60  100  0\n",
       "2      142  60  100  0\n",
       "3      142  59  100  0\n",
       "4      143  59  100  0\n",
       "...    ...  ..  ... ..\n",
       "18657  169  19   98  1\n",
       "18658  164  50   98  1\n",
       "18659  164  74   98  1\n",
       "18660  162  39   99  1\n",
       "18661  167  13   99  1\n",
       "\n",
       "[17483 rows x 4 columns]"
      ]
     },
     "execution_count": 225,
     "metadata": {},
     "output_type": "execute_result"
    }
   ],
   "source": [
    "data_dir = \"./Data/\"\n",
    "csv_files = glob.glob(data_dir + \"/**/*.csv\", recursive=True) # get all csv files in the data directory\n",
    "combined_csv = pd.concat([pd.read_csv(f, header=None) for f in csv_files], ignore_index=True) # combine all csv files into one dataframe\n",
    "combined_csv.drop(columns=[0], inplace=True) # drop the first column (index)\n",
    "combined_csv = combined_csv[combined_csv.iloc[:, 3] != \"#\"] # remove rows with \"#\" in the 4th column\n",
    "combined_csv = combined_csv[combined_csv.iloc[:, 2] != \"--1\"] # remove row with \"--1\" in the 3rd column (why is that there?)\n",
    "combined_csv # display the combined dataframe\n"
   ]
  },
  {
   "cell_type": "code",
   "execution_count": 226,
   "metadata": {},
   "outputs": [],
   "source": [
    "#  Shuffle dataset\n",
    "combined_csv = shuffle(combined_csv)"
   ]
  },
  {
   "cell_type": "code",
   "execution_count": 227,
   "metadata": {},
   "outputs": [],
   "source": [
    "# Split Dataset\n",
    "train, test = train_test_split(combined_csv, test_size=0.1) \n",
    "train, valid = train_test_split(combined_csv, test_size=0.1) # split the dataset into 90% training and 10% validation (test) sets"
   ]
  },
  {
   "cell_type": "markdown",
   "metadata": {},
   "source": [
    "<h1>Option: Normalization</h1>"
   ]
  },
  {
   "cell_type": "code",
   "execution_count": 228,
   "metadata": {},
   "outputs": [],
   "source": [
    "# Normalized Dataset\n",
    "scaler = StandardScaler() # initialize scaler\n",
    "train_x = scaler.fit_transform(train.iloc[:, 0:3]) # fit the scaler on the training data and transform the training data\n",
    "train_y = train.iloc[:, 3] # get the labels for the training data\n",
    "valid_x = scaler.transform(valid.iloc[:, 0:3]) # transform the validation data\n",
    "valid_y = valid.iloc[:, 3] # get the labels for the validation data\n",
    "test_x = scaler.transform(test.iloc[:, 0:3]) # transform the test data\n",
    "test_y = test.iloc[:, 3] # get the labels\n",
    "\n",
    "#  Non-Normalized Dataset\n",
    "# train_x = train.iloc[:, 0:3].values\n",
    "# train_y = train.iloc[:, 3].values   \n",
    "# valid_x = valid.iloc[:, 0:3].values\n",
    "# valid_y = valid.iloc[:, 3].values\n",
    "# test_x = test.iloc[:, 0:3].values\n",
    "# test_y = test.iloc[:, 3].values"
   ]
  },
  {
   "cell_type": "code",
   "execution_count": 229,
   "metadata": {},
   "outputs": [],
   "source": [
    "# Convert to float32 (this was annoying)\n",
    "train_x = np.array(train_x, np.float32)\n",
    "train_y = np.array(train_y, np.float32)\n",
    "valid_x = np.array(valid_x, np.float32)\n",
    "valid_y = np.array(valid_y, np.float32)\n",
    "test_x = np.array(test_x, np.float32)\n",
    "test_y = np.array(test_y, np.float32)\n",
    "\n",
    "\n",
    "# print(train_y.value_counts())"
   ]
  },
  {
   "cell_type": "markdown",
   "metadata": {},
   "source": [
    "<h1>Option: Model Selection & Regularizer</h1>"
   ]
  },
  {
   "cell_type": "code",
   "execution_count": 230,
   "metadata": {},
   "outputs": [
    {
     "data": {
      "text/html": [
       "<pre style=\"white-space:pre;overflow-x:auto;line-height:normal;font-family:Menlo,'DejaVu Sans Mono',consolas,'Courier New',monospace\"><span style=\"font-weight: bold\">Model: \"sequential_17\"</span>\n",
       "</pre>\n"
      ],
      "text/plain": [
       "\u001b[1mModel: \"sequential_17\"\u001b[0m\n"
      ]
     },
     "metadata": {},
     "output_type": "display_data"
    },
    {
     "data": {
      "text/html": [
       "<pre style=\"white-space:pre;overflow-x:auto;line-height:normal;font-family:Menlo,'DejaVu Sans Mono',consolas,'Courier New',monospace\">┏━━━━━━━━━━━━━━━━━━━━━━━━━━━━━━━━━┳━━━━━━━━━━━━━━━━━━━━━━━━┳━━━━━━━━━━━━━━━┓\n",
       "┃<span style=\"font-weight: bold\"> Layer (type)                    </span>┃<span style=\"font-weight: bold\"> Output Shape           </span>┃<span style=\"font-weight: bold\">       Param # </span>┃\n",
       "┡━━━━━━━━━━━━━━━━━━━━━━━━━━━━━━━━━╇━━━━━━━━━━━━━━━━━━━━━━━━╇━━━━━━━━━━━━━━━┩\n",
       "│ dense_85 (<span style=\"color: #0087ff; text-decoration-color: #0087ff\">Dense</span>)                │ (<span style=\"color: #00d7ff; text-decoration-color: #00d7ff\">None</span>, <span style=\"color: #00af00; text-decoration-color: #00af00\">32</span>)             │           <span style=\"color: #00af00; text-decoration-color: #00af00\">128</span> │\n",
       "├─────────────────────────────────┼────────────────────────┼───────────────┤\n",
       "│ dense_86 (<span style=\"color: #0087ff; text-decoration-color: #0087ff\">Dense</span>)                │ (<span style=\"color: #00d7ff; text-decoration-color: #00d7ff\">None</span>, <span style=\"color: #00af00; text-decoration-color: #00af00\">64</span>)             │         <span style=\"color: #00af00; text-decoration-color: #00af00\">2,112</span> │\n",
       "├─────────────────────────────────┼────────────────────────┼───────────────┤\n",
       "│ dense_87 (<span style=\"color: #0087ff; text-decoration-color: #0087ff\">Dense</span>)                │ (<span style=\"color: #00d7ff; text-decoration-color: #00d7ff\">None</span>, <span style=\"color: #00af00; text-decoration-color: #00af00\">32</span>)             │         <span style=\"color: #00af00; text-decoration-color: #00af00\">2,080</span> │\n",
       "├─────────────────────────────────┼────────────────────────┼───────────────┤\n",
       "│ dense_88 (<span style=\"color: #0087ff; text-decoration-color: #0087ff\">Dense</span>)                │ (<span style=\"color: #00d7ff; text-decoration-color: #00d7ff\">None</span>, <span style=\"color: #00af00; text-decoration-color: #00af00\">16</span>)             │           <span style=\"color: #00af00; text-decoration-color: #00af00\">528</span> │\n",
       "├─────────────────────────────────┼────────────────────────┼───────────────┤\n",
       "│ dense_89 (<span style=\"color: #0087ff; text-decoration-color: #0087ff\">Dense</span>)                │ (<span style=\"color: #00d7ff; text-decoration-color: #00d7ff\">None</span>, <span style=\"color: #00af00; text-decoration-color: #00af00\">3</span>)              │            <span style=\"color: #00af00; text-decoration-color: #00af00\">51</span> │\n",
       "└─────────────────────────────────┴────────────────────────┴───────────────┘\n",
       "</pre>\n"
      ],
      "text/plain": [
       "┏━━━━━━━━━━━━━━━━━━━━━━━━━━━━━━━━━┳━━━━━━━━━━━━━━━━━━━━━━━━┳━━━━━━━━━━━━━━━┓\n",
       "┃\u001b[1m \u001b[0m\u001b[1mLayer (type)                   \u001b[0m\u001b[1m \u001b[0m┃\u001b[1m \u001b[0m\u001b[1mOutput Shape          \u001b[0m\u001b[1m \u001b[0m┃\u001b[1m \u001b[0m\u001b[1m      Param #\u001b[0m\u001b[1m \u001b[0m┃\n",
       "┡━━━━━━━━━━━━━━━━━━━━━━━━━━━━━━━━━╇━━━━━━━━━━━━━━━━━━━━━━━━╇━━━━━━━━━━━━━━━┩\n",
       "│ dense_85 (\u001b[38;5;33mDense\u001b[0m)                │ (\u001b[38;5;45mNone\u001b[0m, \u001b[38;5;34m32\u001b[0m)             │           \u001b[38;5;34m128\u001b[0m │\n",
       "├─────────────────────────────────┼────────────────────────┼───────────────┤\n",
       "│ dense_86 (\u001b[38;5;33mDense\u001b[0m)                │ (\u001b[38;5;45mNone\u001b[0m, \u001b[38;5;34m64\u001b[0m)             │         \u001b[38;5;34m2,112\u001b[0m │\n",
       "├─────────────────────────────────┼────────────────────────┼───────────────┤\n",
       "│ dense_87 (\u001b[38;5;33mDense\u001b[0m)                │ (\u001b[38;5;45mNone\u001b[0m, \u001b[38;5;34m32\u001b[0m)             │         \u001b[38;5;34m2,080\u001b[0m │\n",
       "├─────────────────────────────────┼────────────────────────┼───────────────┤\n",
       "│ dense_88 (\u001b[38;5;33mDense\u001b[0m)                │ (\u001b[38;5;45mNone\u001b[0m, \u001b[38;5;34m16\u001b[0m)             │           \u001b[38;5;34m528\u001b[0m │\n",
       "├─────────────────────────────────┼────────────────────────┼───────────────┤\n",
       "│ dense_89 (\u001b[38;5;33mDense\u001b[0m)                │ (\u001b[38;5;45mNone\u001b[0m, \u001b[38;5;34m3\u001b[0m)              │            \u001b[38;5;34m51\u001b[0m │\n",
       "└─────────────────────────────────┴────────────────────────┴───────────────┘\n"
      ]
     },
     "metadata": {},
     "output_type": "display_data"
    },
    {
     "data": {
      "text/html": [
       "<pre style=\"white-space:pre;overflow-x:auto;line-height:normal;font-family:Menlo,'DejaVu Sans Mono',consolas,'Courier New',monospace\"><span style=\"font-weight: bold\"> Total params: </span><span style=\"color: #00af00; text-decoration-color: #00af00\">4,899</span> (19.14 KB)\n",
       "</pre>\n"
      ],
      "text/plain": [
       "\u001b[1m Total params: \u001b[0m\u001b[38;5;34m4,899\u001b[0m (19.14 KB)\n"
      ]
     },
     "metadata": {},
     "output_type": "display_data"
    },
    {
     "data": {
      "text/html": [
       "<pre style=\"white-space:pre;overflow-x:auto;line-height:normal;font-family:Menlo,'DejaVu Sans Mono',consolas,'Courier New',monospace\"><span style=\"font-weight: bold\"> Trainable params: </span><span style=\"color: #00af00; text-decoration-color: #00af00\">4,899</span> (19.14 KB)\n",
       "</pre>\n"
      ],
      "text/plain": [
       "\u001b[1m Trainable params: \u001b[0m\u001b[38;5;34m4,899\u001b[0m (19.14 KB)\n"
      ]
     },
     "metadata": {},
     "output_type": "display_data"
    },
    {
     "data": {
      "text/html": [
       "<pre style=\"white-space:pre;overflow-x:auto;line-height:normal;font-family:Menlo,'DejaVu Sans Mono',consolas,'Courier New',monospace\"><span style=\"font-weight: bold\"> Non-trainable params: </span><span style=\"color: #00af00; text-decoration-color: #00af00\">0</span> (0.00 B)\n",
       "</pre>\n"
      ],
      "text/plain": [
       "\u001b[1m Non-trainable params: \u001b[0m\u001b[38;5;34m0\u001b[0m (0.00 B)\n"
      ]
     },
     "metadata": {},
     "output_type": "display_data"
    }
   ],
   "source": [
    "# Models\n",
    "\n",
    "# Xavier w/ regularizer\n",
    "# model = Sequential([\n",
    "#     Input(shape=(3,)),\n",
    "#     Dense(32, activation='relu', kernel_initializer=GlorotUniform(), kernel_regularizer=regularizers.l2(0.01)),\n",
    "#     Dense(64, activation='relu', kernel_initializer=GlorotUniform(), kernel_regularizer=regularizers.l2(0.01)),\n",
    "#     Dense(32, activation='relu', kernel_initializer=GlorotUniform(), kernel_regularizer=regularizers.l2(0.01)),\n",
    "#     Dense(16, activation='relu', kernel_initializer=GlorotUniform(), kernel_regularizer=regularizers.l2(0.01)),\n",
    "#     Dense(3, activation='softmax', kernel_initializer=GlorotUniform(), kernel_regularizer=regularizers.l2(0.01))\n",
    "# ])\n",
    "\n",
    "# Xavier w/o regularizer\n",
    "# model = Sequential([\n",
    "#     Input(shape=(3,)),\n",
    "#     Dense(32, activation='relu', kernel_initializer=GlorotUniform()),\n",
    "#     Dense(64, activation='relu', kernel_initializer=GlorotUniform()),\n",
    "#     Dropout(0.3),\n",
    "#     Dense(32, activation='relu', kernel_initializer=GlorotUniform()),\n",
    "#     Dropout(0.3),\n",
    "#     Dense(16, activation='relu', kernel_initializer=GlorotUniform()),\n",
    "#     Dense(3, activation='softmax', kernel_initializer=GlorotUniform())\n",
    "# ])\n",
    "\n",
    "# Random Normal w/ regularizer\n",
    "model = Sequential([\n",
    "    Input(shape=(3,)),\n",
    "    Dense(32, activation='relu', kernel_initializer=RandomNormal(), kernel_regularizer=regularizers.l2(0.01)),\n",
    "    Dense(64, activation='relu', kernel_initializer=RandomNormal(), kernel_regularizer=regularizers.l2(0.01)),\n",
    "    Dense(32, activation='relu', kernel_initializer=RandomNormal(), kernel_regularizer=regularizers.l2(0.01)),\n",
    "    Dense(16, activation='relu', kernel_initializer=RandomNormal(), kernel_regularizer=regularizers.l2(0.01)),\n",
    "    Dense(3, activation='softmax', kernel_initializer=RandomNormal(), kernel_regularizer=regularizers.l2(0.01))\n",
    "])\n",
    "\n",
    "# Random Normal w/o regularizer\n",
    "# model = Sequential([\n",
    "#     Input(shape=(3,)),\n",
    "#     Dense(32, activation='relu', kernel_initializer=RandomNormal()), #\n",
    "#     Dense(64, activation='relu', kernel_initializer=RandomNormal()),\n",
    "#     Dropout(0.3),\n",
    "#     Dense(32, activation='relu', kernel_initializer=RandomNormal()),\n",
    "#     Dropout(0.3),\n",
    "#     Dense(16, activation='relu', kernel_initializer=RandomNormal()),\n",
    "#     Dense(3, activation='softmax', kernel_initializer=RandomNormal())\n",
    "# ])\n",
    "\n",
    "model.summary()"
   ]
  },
  {
   "cell_type": "markdown",
   "metadata": {},
   "source": [
    "<h1>Option: Optimizer & Learning Rate</h1>"
   ]
  },
  {
   "cell_type": "code",
   "execution_count": 231,
   "metadata": {},
   "outputs": [],
   "source": [
    "# Optimizers and Compiling\n",
    "\n",
    "# ADAM Optimizer w/ Learning Rate of 0.01\n",
    "# model.compile(optimizer=Adam(learning_rate=.01), loss='sparse_categorical_crossentropy', metrics=['accuracy'])\n",
    "\n",
    "# ADAM Optimizer w/ Learning Rate of 0.0001\n",
    "model.compile(optimizer=Adam(learning_rate=.0001), loss='sparse_categorical_crossentropy', metrics=['accuracy'])\n",
    "\n",
    "# Momentum Optimizer w/ Learning Rate of 0.01\n",
    "# model.compile(optimizer=SGD(learning_rate=.01, momentum=0.7), loss='sparse_categorical_crossentropy', metrics=['accuracy'])\n",
    "\n",
    "# Momentum Optimizer w/ Learning Rate of 0.0001\n",
    "# model.compile(optimizer=SGD(learning_rate=.001, momentum=0.7), loss='sparse_categorical_crossentropy', metrics=['accuracy'])"
   ]
  },
  {
   "cell_type": "code",
   "execution_count": 232,
   "metadata": {},
   "outputs": [],
   "source": [
    "# Define ReduceLROnPlateau callback,hopes in reducing plateu in loss\n",
    "reduce_lr = ReduceLROnPlateau(monitor='val_loss', factor=0.2, patience=5, min_lr=0.00001)\n"
   ]
  },
  {
   "cell_type": "markdown",
   "metadata": {},
   "source": [
    "<h1>Option: Batch Size & Epochs</h1>"
   ]
  },
  {
   "cell_type": "code",
   "execution_count": 233,
   "metadata": {},
   "outputs": [
    {
     "name": "stdout",
     "output_type": "stream",
     "text": [
      "Epoch 1/80\n",
      "\u001b[1m158/158\u001b[0m \u001b[32m━━━━━━━━━━━━━━━━━━━━\u001b[0m\u001b[37m\u001b[0m \u001b[1m1s\u001b[0m 1ms/step - accuracy: 0.5609 - loss: 1.2001 - val_accuracy: 0.5729 - val_loss: 1.1576 - learning_rate: 1.0000e-04\n",
      "Epoch 2/80\n",
      "\u001b[1m158/158\u001b[0m \u001b[32m━━━━━━━━━━━━━━━━━━━━\u001b[0m\u001b[37m\u001b[0m \u001b[1m0s\u001b[0m 673us/step - accuracy: 0.5651 - loss: 1.1457 - val_accuracy: 0.5729 - val_loss: 1.1053 - learning_rate: 1.0000e-04\n",
      "Epoch 3/80\n",
      "\u001b[1m158/158\u001b[0m \u001b[32m━━━━━━━━━━━━━━━━━━━━\u001b[0m\u001b[37m\u001b[0m \u001b[1m0s\u001b[0m 715us/step - accuracy: 0.5662 - loss: 1.0895 - val_accuracy: 0.5729 - val_loss: 1.0030 - learning_rate: 1.0000e-04\n",
      "Epoch 4/80\n",
      "\u001b[1m158/158\u001b[0m \u001b[32m━━━━━━━━━━━━━━━━━━━━\u001b[0m\u001b[37m\u001b[0m \u001b[1m0s\u001b[0m 696us/step - accuracy: 0.5598 - loss: 0.9799 - val_accuracy: 0.5729 - val_loss: 0.9038 - learning_rate: 1.0000e-04\n",
      "Epoch 5/80\n",
      "\u001b[1m158/158\u001b[0m \u001b[32m━━━━━━━━━━━━━━━━━━━━\u001b[0m\u001b[37m\u001b[0m \u001b[1m0s\u001b[0m 686us/step - accuracy: 0.5619 - loss: 0.9249 - val_accuracy: 0.5729 - val_loss: 0.8875 - learning_rate: 1.0000e-04\n",
      "Epoch 6/80\n",
      "\u001b[1m158/158\u001b[0m \u001b[32m━━━━━━━━━━━━━━━━━━━━\u001b[0m\u001b[37m\u001b[0m \u001b[1m0s\u001b[0m 673us/step - accuracy: 0.5639 - loss: 0.9047 - val_accuracy: 0.5729 - val_loss: 0.8800 - learning_rate: 1.0000e-04\n",
      "Epoch 7/80\n",
      "\u001b[1m158/158\u001b[0m \u001b[32m━━━━━━━━━━━━━━━━━━━━\u001b[0m\u001b[37m\u001b[0m \u001b[1m0s\u001b[0m 663us/step - accuracy: 0.5590 - loss: 0.9056 - val_accuracy: 0.5729 - val_loss: 0.8737 - learning_rate: 1.0000e-04\n",
      "Epoch 8/80\n",
      "\u001b[1m158/158\u001b[0m \u001b[32m━━━━━━━━━━━━━━━━━━━━\u001b[0m\u001b[37m\u001b[0m \u001b[1m0s\u001b[0m 657us/step - accuracy: 0.5612 - loss: 0.8989 - val_accuracy: 0.5729 - val_loss: 0.8701 - learning_rate: 1.0000e-04\n",
      "Epoch 9/80\n",
      "\u001b[1m158/158\u001b[0m \u001b[32m━━━━━━━━━━━━━━━━━━━━\u001b[0m\u001b[37m\u001b[0m \u001b[1m0s\u001b[0m 647us/step - accuracy: 0.5621 - loss: 0.8942 - val_accuracy: 0.5729 - val_loss: 0.8677 - learning_rate: 1.0000e-04\n",
      "Epoch 10/80\n",
      "\u001b[1m158/158\u001b[0m \u001b[32m━━━━━━━━━━━━━━━━━━━━\u001b[0m\u001b[37m\u001b[0m \u001b[1m0s\u001b[0m 663us/step - accuracy: 0.5589 - loss: 0.8914 - val_accuracy: 0.5729 - val_loss: 0.8654 - learning_rate: 1.0000e-04\n",
      "Epoch 11/80\n",
      "\u001b[1m158/158\u001b[0m \u001b[32m━━━━━━━━━━━━━━━━━━━━\u001b[0m\u001b[37m\u001b[0m \u001b[1m0s\u001b[0m 679us/step - accuracy: 0.5608 - loss: 0.8889 - val_accuracy: 0.5729 - val_loss: 0.8639 - learning_rate: 1.0000e-04\n",
      "Epoch 12/80\n",
      "\u001b[1m158/158\u001b[0m \u001b[32m━━━━━━━━━━━━━━━━━━━━\u001b[0m\u001b[37m\u001b[0m \u001b[1m0s\u001b[0m 688us/step - accuracy: 0.5616 - loss: 0.8871 - val_accuracy: 0.5729 - val_loss: 0.8626 - learning_rate: 1.0000e-04\n",
      "Epoch 13/80\n",
      "\u001b[1m158/158\u001b[0m \u001b[32m━━━━━━━━━━━━━━━━━━━━\u001b[0m\u001b[37m\u001b[0m \u001b[1m0s\u001b[0m 673us/step - accuracy: 0.5569 - loss: 0.8943 - val_accuracy: 0.5729 - val_loss: 0.8612 - learning_rate: 1.0000e-04\n",
      "Epoch 14/80\n",
      "\u001b[1m158/158\u001b[0m \u001b[32m━━━━━━━━━━━━━━━━━━━━\u001b[0m\u001b[37m\u001b[0m \u001b[1m0s\u001b[0m 673us/step - accuracy: 0.5617 - loss: 0.8833 - val_accuracy: 0.5729 - val_loss: 0.8602 - learning_rate: 1.0000e-04\n",
      "Epoch 15/80\n",
      "\u001b[1m158/158\u001b[0m \u001b[32m━━━━━━━━━━━━━━━━━━━━\u001b[0m\u001b[37m\u001b[0m \u001b[1m0s\u001b[0m 679us/step - accuracy: 0.5549 - loss: 0.8868 - val_accuracy: 0.5729 - val_loss: 0.8584 - learning_rate: 1.0000e-04\n",
      "Epoch 16/80\n",
      "\u001b[1m158/158\u001b[0m \u001b[32m━━━━━━━━━━━━━━━━━━━━\u001b[0m\u001b[37m\u001b[0m \u001b[1m0s\u001b[0m 683us/step - accuracy: 0.5583 - loss: 0.8842 - val_accuracy: 0.5729 - val_loss: 0.8576 - learning_rate: 1.0000e-04\n",
      "Epoch 17/80\n",
      "\u001b[1m158/158\u001b[0m \u001b[32m━━━━━━━━━━━━━━━━━━━━\u001b[0m\u001b[37m\u001b[0m \u001b[1m0s\u001b[0m 686us/step - accuracy: 0.5522 - loss: 0.8865 - val_accuracy: 0.5729 - val_loss: 0.8548 - learning_rate: 1.0000e-04\n",
      "Epoch 18/80\n",
      "\u001b[1m158/158\u001b[0m \u001b[32m━━━━━━━━━━━━━━━━━━━━\u001b[0m\u001b[37m\u001b[0m \u001b[1m0s\u001b[0m 669us/step - accuracy: 0.5692 - loss: 0.8758 - val_accuracy: 0.5729 - val_loss: 0.8532 - learning_rate: 1.0000e-04\n",
      "Epoch 19/80\n",
      "\u001b[1m158/158\u001b[0m \u001b[32m━━━━━━━━━━━━━━━━━━━━\u001b[0m\u001b[37m\u001b[0m \u001b[1m0s\u001b[0m 650us/step - accuracy: 0.5696 - loss: 0.8666 - val_accuracy: 0.5735 - val_loss: 0.8507 - learning_rate: 1.0000e-04\n",
      "Epoch 20/80\n",
      "\u001b[1m158/158\u001b[0m \u001b[32m━━━━━━━━━━━━━━━━━━━━\u001b[0m\u001b[37m\u001b[0m \u001b[1m0s\u001b[0m 779us/step - accuracy: 0.5641 - loss: 0.8707 - val_accuracy: 0.5763 - val_loss: 0.8466 - learning_rate: 1.0000e-04\n",
      "Epoch 21/80\n",
      "\u001b[1m158/158\u001b[0m \u001b[32m━━━━━━━━━━━━━━━━━━━━\u001b[0m\u001b[37m\u001b[0m \u001b[1m0s\u001b[0m 679us/step - accuracy: 0.5667 - loss: 0.8718 - val_accuracy: 0.5815 - val_loss: 0.8428 - learning_rate: 1.0000e-04\n",
      "Epoch 22/80\n",
      "\u001b[1m158/158\u001b[0m \u001b[32m━━━━━━━━━━━━━━━━━━━━\u001b[0m\u001b[37m\u001b[0m \u001b[1m0s\u001b[0m 650us/step - accuracy: 0.5792 - loss: 0.8601 - val_accuracy: 0.5981 - val_loss: 0.8396 - learning_rate: 1.0000e-04\n",
      "Epoch 23/80\n",
      "\u001b[1m158/158\u001b[0m \u001b[32m━━━━━━━━━━━━━━━━━━━━\u001b[0m\u001b[37m\u001b[0m \u001b[1m0s\u001b[0m 650us/step - accuracy: 0.6024 - loss: 0.8526 - val_accuracy: 0.6158 - val_loss: 0.8361 - learning_rate: 1.0000e-04\n",
      "Epoch 24/80\n",
      "\u001b[1m158/158\u001b[0m \u001b[32m━━━━━━━━━━━━━━━━━━━━\u001b[0m\u001b[37m\u001b[0m \u001b[1m0s\u001b[0m 670us/step - accuracy: 0.6099 - loss: 0.8567 - val_accuracy: 0.6249 - val_loss: 0.8318 - learning_rate: 1.0000e-04\n",
      "Epoch 25/80\n",
      "\u001b[1m158/158\u001b[0m \u001b[32m━━━━━━━━━━━━━━━━━━━━\u001b[0m\u001b[37m\u001b[0m \u001b[1m0s\u001b[0m 653us/step - accuracy: 0.6208 - loss: 0.8485 - val_accuracy: 0.6455 - val_loss: 0.8284 - learning_rate: 1.0000e-04\n",
      "Epoch 26/80\n",
      "\u001b[1m158/158\u001b[0m \u001b[32m━━━━━━━━━━━━━━━━━━━━\u001b[0m\u001b[37m\u001b[0m \u001b[1m0s\u001b[0m 701us/step - accuracy: 0.6372 - loss: 0.8410 - val_accuracy: 0.6455 - val_loss: 0.8251 - learning_rate: 1.0000e-04\n",
      "Epoch 27/80\n",
      "\u001b[1m158/158\u001b[0m \u001b[32m━━━━━━━━━━━━━━━━━━━━\u001b[0m\u001b[37m\u001b[0m \u001b[1m0s\u001b[0m 692us/step - accuracy: 0.6355 - loss: 0.8388 - val_accuracy: 0.6581 - val_loss: 0.8218 - learning_rate: 1.0000e-04\n",
      "Epoch 28/80\n",
      "\u001b[1m158/158\u001b[0m \u001b[32m━━━━━━━━━━━━━━━━━━━━\u001b[0m\u001b[37m\u001b[0m \u001b[1m0s\u001b[0m 679us/step - accuracy: 0.6468 - loss: 0.8428 - val_accuracy: 0.6609 - val_loss: 0.8185 - learning_rate: 1.0000e-04\n",
      "Epoch 29/80\n",
      "\u001b[1m158/158\u001b[0m \u001b[32m━━━━━━━━━━━━━━━━━━━━\u001b[0m\u001b[37m\u001b[0m \u001b[1m0s\u001b[0m 660us/step - accuracy: 0.6597 - loss: 0.8296 - val_accuracy: 0.6667 - val_loss: 0.8154 - learning_rate: 1.0000e-04\n",
      "Epoch 30/80\n",
      "\u001b[1m158/158\u001b[0m \u001b[32m━━━━━━━━━━━━━━━━━━━━\u001b[0m\u001b[37m\u001b[0m \u001b[1m0s\u001b[0m 686us/step - accuracy: 0.6565 - loss: 0.8328 - val_accuracy: 0.6684 - val_loss: 0.8119 - learning_rate: 1.0000e-04\n",
      "Epoch 31/80\n",
      "\u001b[1m158/158\u001b[0m \u001b[32m━━━━━━━━━━━━━━━━━━━━\u001b[0m\u001b[37m\u001b[0m \u001b[1m0s\u001b[0m 647us/step - accuracy: 0.6669 - loss: 0.8278 - val_accuracy: 0.6735 - val_loss: 0.8089 - learning_rate: 1.0000e-04\n",
      "Epoch 32/80\n",
      "\u001b[1m158/158\u001b[0m \u001b[32m━━━━━━━━━━━━━━━━━━━━\u001b[0m\u001b[37m\u001b[0m \u001b[1m0s\u001b[0m 728us/step - accuracy: 0.6783 - loss: 0.8230 - val_accuracy: 0.6770 - val_loss: 0.8061 - learning_rate: 1.0000e-04\n",
      "Epoch 33/80\n",
      "\u001b[1m158/158\u001b[0m \u001b[32m━━━━━━━━━━━━━━━━━━━━\u001b[0m\u001b[37m\u001b[0m \u001b[1m0s\u001b[0m 676us/step - accuracy: 0.6753 - loss: 0.8247 - val_accuracy: 0.6832 - val_loss: 0.8031 - learning_rate: 1.0000e-04\n",
      "Epoch 34/80\n",
      "\u001b[1m158/158\u001b[0m \u001b[32m━━━━━━━━━━━━━━━━━━━━\u001b[0m\u001b[37m\u001b[0m \u001b[1m0s\u001b[0m 679us/step - accuracy: 0.6908 - loss: 0.8122 - val_accuracy: 0.6838 - val_loss: 0.8004 - learning_rate: 1.0000e-04\n",
      "Epoch 35/80\n",
      "\u001b[1m158/158\u001b[0m \u001b[32m━━━━━━━━━━━━━━━━━━━━\u001b[0m\u001b[37m\u001b[0m \u001b[1m0s\u001b[0m 669us/step - accuracy: 0.6917 - loss: 0.8115 - val_accuracy: 0.6918 - val_loss: 0.7977 - learning_rate: 1.0000e-04\n",
      "Epoch 36/80\n",
      "\u001b[1m158/158\u001b[0m \u001b[32m━━━━━━━━━━━━━━━━━━━━\u001b[0m\u001b[37m\u001b[0m \u001b[1m0s\u001b[0m 672us/step - accuracy: 0.6963 - loss: 0.8109 - val_accuracy: 0.6935 - val_loss: 0.7956 - learning_rate: 1.0000e-04\n",
      "Epoch 37/80\n",
      "\u001b[1m158/158\u001b[0m \u001b[32m━━━━━━━━━━━━━━━━━━━━\u001b[0m\u001b[37m\u001b[0m \u001b[1m0s\u001b[0m 749us/step - accuracy: 0.6957 - loss: 0.8070 - val_accuracy: 0.6941 - val_loss: 0.7931 - learning_rate: 1.0000e-04\n",
      "Epoch 38/80\n",
      "\u001b[1m158/158\u001b[0m \u001b[32m━━━━━━━━━━━━━━━━━━━━\u001b[0m\u001b[37m\u001b[0m \u001b[1m0s\u001b[0m 705us/step - accuracy: 0.6956 - loss: 0.8116 - val_accuracy: 0.6953 - val_loss: 0.7913 - learning_rate: 1.0000e-04\n",
      "Epoch 39/80\n",
      "\u001b[1m158/158\u001b[0m \u001b[32m━━━━━━━━━━━━━━━━━━━━\u001b[0m\u001b[37m\u001b[0m \u001b[1m0s\u001b[0m 688us/step - accuracy: 0.7013 - loss: 0.8048 - val_accuracy: 0.6998 - val_loss: 0.7896 - learning_rate: 1.0000e-04\n",
      "Epoch 40/80\n",
      "\u001b[1m158/158\u001b[0m \u001b[32m━━━━━━━━━━━━━━━━━━━━\u001b[0m\u001b[37m\u001b[0m \u001b[1m0s\u001b[0m 733us/step - accuracy: 0.7029 - loss: 0.8045 - val_accuracy: 0.7010 - val_loss: 0.7879 - learning_rate: 1.0000e-04\n",
      "Epoch 41/80\n",
      "\u001b[1m158/158\u001b[0m \u001b[32m━━━━━━━━━━━━━━━━━━━━\u001b[0m\u001b[37m\u001b[0m \u001b[1m0s\u001b[0m 720us/step - accuracy: 0.7021 - loss: 0.8003 - val_accuracy: 0.7015 - val_loss: 0.7865 - learning_rate: 1.0000e-04\n",
      "Epoch 42/80\n",
      "\u001b[1m158/158\u001b[0m \u001b[32m━━━━━━━━━━━━━━━━━━━━\u001b[0m\u001b[37m\u001b[0m \u001b[1m0s\u001b[0m 730us/step - accuracy: 0.7062 - loss: 0.8024 - val_accuracy: 0.7010 - val_loss: 0.7852 - learning_rate: 1.0000e-04\n",
      "Epoch 43/80\n",
      "\u001b[1m158/158\u001b[0m \u001b[32m━━━━━━━━━━━━━━━━━━━━\u001b[0m\u001b[37m\u001b[0m \u001b[1m0s\u001b[0m 788us/step - accuracy: 0.7122 - loss: 0.7927 - val_accuracy: 0.7027 - val_loss: 0.7842 - learning_rate: 1.0000e-04\n",
      "Epoch 44/80\n",
      "\u001b[1m158/158\u001b[0m \u001b[32m━━━━━━━━━━━━━━━━━━━━\u001b[0m\u001b[37m\u001b[0m \u001b[1m0s\u001b[0m 689us/step - accuracy: 0.7081 - loss: 0.8051 - val_accuracy: 0.7033 - val_loss: 0.7828 - learning_rate: 1.0000e-04\n",
      "Epoch 45/80\n",
      "\u001b[1m158/158\u001b[0m \u001b[32m━━━━━━━━━━━━━━━━━━━━\u001b[0m\u001b[37m\u001b[0m \u001b[1m0s\u001b[0m 679us/step - accuracy: 0.7128 - loss: 0.7939 - val_accuracy: 0.7033 - val_loss: 0.7815 - learning_rate: 1.0000e-04\n",
      "Epoch 46/80\n",
      "\u001b[1m158/158\u001b[0m \u001b[32m━━━━━━━━━━━━━━━━━━━━\u001b[0m\u001b[37m\u001b[0m \u001b[1m0s\u001b[0m 676us/step - accuracy: 0.7146 - loss: 0.7910 - val_accuracy: 0.7033 - val_loss: 0.7808 - learning_rate: 1.0000e-04\n",
      "Epoch 47/80\n",
      "\u001b[1m158/158\u001b[0m \u001b[32m━━━━━━━━━━━━━━━━━━━━\u001b[0m\u001b[37m\u001b[0m \u001b[1m0s\u001b[0m 679us/step - accuracy: 0.7122 - loss: 0.7932 - val_accuracy: 0.7015 - val_loss: 0.7799 - learning_rate: 1.0000e-04\n",
      "Epoch 48/80\n",
      "\u001b[1m158/158\u001b[0m \u001b[32m━━━━━━━━━━━━━━━━━━━━\u001b[0m\u001b[37m\u001b[0m \u001b[1m0s\u001b[0m 695us/step - accuracy: 0.7080 - loss: 0.7909 - val_accuracy: 0.7033 - val_loss: 0.7789 - learning_rate: 1.0000e-04\n",
      "Epoch 49/80\n",
      "\u001b[1m158/158\u001b[0m \u001b[32m━━━━━━━━━━━━━━━━━━━━\u001b[0m\u001b[37m\u001b[0m \u001b[1m0s\u001b[0m 685us/step - accuracy: 0.7023 - loss: 0.7969 - val_accuracy: 0.7004 - val_loss: 0.7788 - learning_rate: 1.0000e-04\n",
      "Epoch 50/80\n",
      "\u001b[1m158/158\u001b[0m \u001b[32m━━━━━━━━━━━━━━━━━━━━\u001b[0m\u001b[37m\u001b[0m \u001b[1m0s\u001b[0m 663us/step - accuracy: 0.7112 - loss: 0.7868 - val_accuracy: 0.7113 - val_loss: 0.7785 - learning_rate: 1.0000e-04\n",
      "Epoch 51/80\n",
      "\u001b[1m158/158\u001b[0m \u001b[32m━━━━━━━━━━━━━━━━━━━━\u001b[0m\u001b[37m\u001b[0m \u001b[1m0s\u001b[0m 698us/step - accuracy: 0.7167 - loss: 0.7882 - val_accuracy: 0.7027 - val_loss: 0.7774 - learning_rate: 1.0000e-04\n",
      "Epoch 52/80\n",
      "\u001b[1m158/158\u001b[0m \u001b[32m━━━━━━━━━━━━━━━━━━━━\u001b[0m\u001b[37m\u001b[0m \u001b[1m0s\u001b[0m 708us/step - accuracy: 0.7153 - loss: 0.7846 - val_accuracy: 0.7033 - val_loss: 0.7769 - learning_rate: 1.0000e-04\n",
      "Epoch 53/80\n",
      "\u001b[1m158/158\u001b[0m \u001b[32m━━━━━━━━━━━━━━━━━━━━\u001b[0m\u001b[37m\u001b[0m \u001b[1m0s\u001b[0m 692us/step - accuracy: 0.7180 - loss: 0.7866 - val_accuracy: 0.7033 - val_loss: 0.7765 - learning_rate: 1.0000e-04\n",
      "Epoch 54/80\n",
      "\u001b[1m158/158\u001b[0m \u001b[32m━━━━━━━━━━━━━━━━━━━━\u001b[0m\u001b[37m\u001b[0m \u001b[1m0s\u001b[0m 749us/step - accuracy: 0.7175 - loss: 0.7833 - val_accuracy: 0.7033 - val_loss: 0.7759 - learning_rate: 1.0000e-04\n",
      "Epoch 55/80\n",
      "\u001b[1m158/158\u001b[0m \u001b[32m━━━━━━━━━━━━━━━━━━━━\u001b[0m\u001b[37m\u001b[0m \u001b[1m0s\u001b[0m 676us/step - accuracy: 0.7116 - loss: 0.7886 - val_accuracy: 0.7010 - val_loss: 0.7759 - learning_rate: 1.0000e-04\n",
      "Epoch 56/80\n",
      "\u001b[1m158/158\u001b[0m \u001b[32m━━━━━━━━━━━━━━━━━━━━\u001b[0m\u001b[37m\u001b[0m \u001b[1m0s\u001b[0m 663us/step - accuracy: 0.7093 - loss: 0.7878 - val_accuracy: 0.7095 - val_loss: 0.7755 - learning_rate: 1.0000e-04\n",
      "Epoch 57/80\n",
      "\u001b[1m158/158\u001b[0m \u001b[32m━━━━━━━━━━━━━━━━━━━━\u001b[0m\u001b[37m\u001b[0m \u001b[1m0s\u001b[0m 663us/step - accuracy: 0.7187 - loss: 0.7807 - val_accuracy: 0.7101 - val_loss: 0.7750 - learning_rate: 1.0000e-04\n",
      "Epoch 58/80\n",
      "\u001b[1m158/158\u001b[0m \u001b[32m━━━━━━━━━━━━━━━━━━━━\u001b[0m\u001b[37m\u001b[0m \u001b[1m0s\u001b[0m 644us/step - accuracy: 0.7136 - loss: 0.7831 - val_accuracy: 0.7073 - val_loss: 0.7746 - learning_rate: 1.0000e-04\n",
      "Epoch 59/80\n",
      "\u001b[1m158/158\u001b[0m \u001b[32m━━━━━━━━━━━━━━━━━━━━\u001b[0m\u001b[37m\u001b[0m \u001b[1m0s\u001b[0m 686us/step - accuracy: 0.7160 - loss: 0.7859 - val_accuracy: 0.7073 - val_loss: 0.7742 - learning_rate: 1.0000e-04\n",
      "Epoch 60/80\n",
      "\u001b[1m158/158\u001b[0m \u001b[32m━━━━━━━━━━━━━━━━━━━━\u001b[0m\u001b[37m\u001b[0m \u001b[1m0s\u001b[0m 682us/step - accuracy: 0.7157 - loss: 0.7850 - val_accuracy: 0.7101 - val_loss: 0.7740 - learning_rate: 1.0000e-04\n",
      "Epoch 61/80\n",
      "\u001b[1m158/158\u001b[0m \u001b[32m━━━━━━━━━━━━━━━━━━━━\u001b[0m\u001b[37m\u001b[0m \u001b[1m0s\u001b[0m 670us/step - accuracy: 0.7111 - loss: 0.7907 - val_accuracy: 0.7038 - val_loss: 0.7736 - learning_rate: 1.0000e-04\n",
      "Epoch 62/80\n",
      "\u001b[1m158/158\u001b[0m \u001b[32m━━━━━━━━━━━━━━━━━━━━\u001b[0m\u001b[37m\u001b[0m \u001b[1m0s\u001b[0m 650us/step - accuracy: 0.7095 - loss: 0.7921 - val_accuracy: 0.7107 - val_loss: 0.7736 - learning_rate: 1.0000e-04\n",
      "Epoch 63/80\n",
      "\u001b[1m158/158\u001b[0m \u001b[32m━━━━━━━━━━━━━━━━━━━━\u001b[0m\u001b[37m\u001b[0m \u001b[1m0s\u001b[0m 651us/step - accuracy: 0.7172 - loss: 0.7867 - val_accuracy: 0.7073 - val_loss: 0.7729 - learning_rate: 1.0000e-04\n",
      "Epoch 64/80\n",
      "\u001b[1m158/158\u001b[0m \u001b[32m━━━━━━━━━━━━━━━━━━━━\u001b[0m\u001b[37m\u001b[0m \u001b[1m0s\u001b[0m 676us/step - accuracy: 0.7178 - loss: 0.7754 - val_accuracy: 0.7113 - val_loss: 0.7730 - learning_rate: 1.0000e-04\n",
      "Epoch 65/80\n",
      "\u001b[1m158/158\u001b[0m \u001b[32m━━━━━━━━━━━━━━━━━━━━\u001b[0m\u001b[37m\u001b[0m \u001b[1m0s\u001b[0m 734us/step - accuracy: 0.7194 - loss: 0.7817 - val_accuracy: 0.7084 - val_loss: 0.7726 - learning_rate: 1.0000e-04\n",
      "Epoch 66/80\n",
      "\u001b[1m158/158\u001b[0m \u001b[32m━━━━━━━━━━━━━━━━━━━━\u001b[0m\u001b[37m\u001b[0m \u001b[1m0s\u001b[0m 704us/step - accuracy: 0.7161 - loss: 0.7855 - val_accuracy: 0.7101 - val_loss: 0.7725 - learning_rate: 1.0000e-04\n",
      "Epoch 67/80\n",
      "\u001b[1m158/158\u001b[0m \u001b[32m━━━━━━━━━━━━━━━━━━━━\u001b[0m\u001b[37m\u001b[0m \u001b[1m0s\u001b[0m 670us/step - accuracy: 0.7248 - loss: 0.7739 - val_accuracy: 0.7038 - val_loss: 0.7721 - learning_rate: 1.0000e-04\n",
      "Epoch 68/80\n",
      "\u001b[1m158/158\u001b[0m \u001b[32m━━━━━━━━━━━━━━━━━━━━\u001b[0m\u001b[37m\u001b[0m \u001b[1m0s\u001b[0m 692us/step - accuracy: 0.7174 - loss: 0.7862 - val_accuracy: 0.7078 - val_loss: 0.7718 - learning_rate: 1.0000e-04\n",
      "Epoch 69/80\n",
      "\u001b[1m158/158\u001b[0m \u001b[32m━━━━━━━━━━━━━━━━━━━━\u001b[0m\u001b[37m\u001b[0m \u001b[1m0s\u001b[0m 669us/step - accuracy: 0.7142 - loss: 0.7850 - val_accuracy: 0.7113 - val_loss: 0.7720 - learning_rate: 1.0000e-04\n",
      "Epoch 70/80\n",
      "\u001b[1m158/158\u001b[0m \u001b[32m━━━━━━━━━━━━━━━━━━━━\u001b[0m\u001b[37m\u001b[0m \u001b[1m0s\u001b[0m 715us/step - accuracy: 0.7134 - loss: 0.7871 - val_accuracy: 0.7113 - val_loss: 0.7715 - learning_rate: 1.0000e-04\n",
      "Epoch 71/80\n",
      "\u001b[1m158/158\u001b[0m \u001b[32m━━━━━━━━━━━━━━━━━━━━\u001b[0m\u001b[37m\u001b[0m \u001b[1m0s\u001b[0m 741us/step - accuracy: 0.7177 - loss: 0.7814 - val_accuracy: 0.7107 - val_loss: 0.7715 - learning_rate: 1.0000e-04\n",
      "Epoch 72/80\n",
      "\u001b[1m158/158\u001b[0m \u001b[32m━━━━━━━━━━━━━━━━━━━━\u001b[0m\u001b[37m\u001b[0m \u001b[1m0s\u001b[0m 775us/step - accuracy: 0.7106 - loss: 0.7868 - val_accuracy: 0.7118 - val_loss: 0.7715 - learning_rate: 1.0000e-04\n",
      "Epoch 73/80\n",
      "\u001b[1m158/158\u001b[0m \u001b[32m━━━━━━━━━━━━━━━━━━━━\u001b[0m\u001b[37m\u001b[0m \u001b[1m0s\u001b[0m 657us/step - accuracy: 0.7139 - loss: 0.7858 - val_accuracy: 0.7118 - val_loss: 0.7712 - learning_rate: 1.0000e-04\n",
      "Epoch 74/80\n",
      "\u001b[1m158/158\u001b[0m \u001b[32m━━━━━━━━━━━━━━━━━━━━\u001b[0m\u001b[37m\u001b[0m \u001b[1m0s\u001b[0m 669us/step - accuracy: 0.7139 - loss: 0.7815 - val_accuracy: 0.7073 - val_loss: 0.7709 - learning_rate: 1.0000e-04\n",
      "Epoch 75/80\n",
      "\u001b[1m158/158\u001b[0m \u001b[32m━━━━━━━━━━━━━━━━━━━━\u001b[0m\u001b[37m\u001b[0m \u001b[1m0s\u001b[0m 683us/step - accuracy: 0.7120 - loss: 0.7821 - val_accuracy: 0.7124 - val_loss: 0.7711 - learning_rate: 1.0000e-04\n",
      "Epoch 76/80\n",
      "\u001b[1m158/158\u001b[0m \u001b[32m━━━━━━━━━━━━━━━━━━━━\u001b[0m\u001b[37m\u001b[0m \u001b[1m0s\u001b[0m 682us/step - accuracy: 0.7219 - loss: 0.7767 - val_accuracy: 0.7118 - val_loss: 0.7707 - learning_rate: 1.0000e-04\n",
      "Epoch 77/80\n",
      "\u001b[1m158/158\u001b[0m \u001b[32m━━━━━━━━━━━━━━━━━━━━\u001b[0m\u001b[37m\u001b[0m \u001b[1m0s\u001b[0m 692us/step - accuracy: 0.7172 - loss: 0.7868 - val_accuracy: 0.7113 - val_loss: 0.7707 - learning_rate: 1.0000e-04\n",
      "Epoch 78/80\n",
      "\u001b[1m158/158\u001b[0m \u001b[32m━━━━━━━━━━━━━━━━━━━━\u001b[0m\u001b[37m\u001b[0m \u001b[1m0s\u001b[0m 695us/step - accuracy: 0.7238 - loss: 0.7698 - val_accuracy: 0.7136 - val_loss: 0.7707 - learning_rate: 1.0000e-04\n",
      "Epoch 79/80\n",
      "\u001b[1m158/158\u001b[0m \u001b[32m━━━━━━━━━━━━━━━━━━━━\u001b[0m\u001b[37m\u001b[0m \u001b[1m0s\u001b[0m 676us/step - accuracy: 0.7202 - loss: 0.7758 - val_accuracy: 0.7136 - val_loss: 0.7708 - learning_rate: 1.0000e-04\n",
      "Epoch 80/80\n",
      "\u001b[1m158/158\u001b[0m \u001b[32m━━━━━━━━━━━━━━━━━━━━\u001b[0m\u001b[37m\u001b[0m \u001b[1m0s\u001b[0m 676us/step - accuracy: 0.7223 - loss: 0.7727 - val_accuracy: 0.7130 - val_loss: 0.7705 - learning_rate: 1.0000e-04\n"
     ]
    }
   ],
   "source": [
    "# Train Model\n",
    "\n",
    "# Batch Size of 32, Epochs of 80\n",
    "# history = model.fit(train_x, train_y, epochs=80, batch_size=32, validation_data=(valid_x, valid_y), callbacks=[reduce_lr])\n",
    "\n",
    "# Batch size of 100, epochs of 80\n",
    "history = model.fit(train_x, train_y, epochs=80, batch_size=100, validation_data=(valid_x, valid_y), callbacks=[reduce_lr])"
   ]
  },
  {
   "cell_type": "code",
   "execution_count": 234,
   "metadata": {},
   "outputs": [
    {
     "name": "stdout",
     "output_type": "stream",
     "text": [
      "\u001b[1m55/55\u001b[0m \u001b[32m━━━━━━━━━━━━━━━━━━━━\u001b[0m\u001b[37m\u001b[0m \u001b[1m0s\u001b[0m 417us/step - accuracy: 0.6939 - loss: 0.7826\n",
      "Test Loss: 0.7705122828483582, Test Accuracy: 0.7129788398742676\n"
     ]
    }
   ],
   "source": [
    "# Quick Evaluation\n",
    "test_loss, test_acc = model.evaluate(valid_x, valid_y)\n",
    "print(f\"Test Loss: {test_loss}, Test Accuracy: {test_acc}\")"
   ]
  },
  {
   "cell_type": "code",
   "execution_count": 235,
   "metadata": {},
   "outputs": [
    {
     "name": "stdout",
     "output_type": "stream",
     "text": [
      "\u001b[1m55/55\u001b[0m \u001b[32m━━━━━━━━━━━━━━━━━━━━\u001b[0m\u001b[37m\u001b[0m \u001b[1m0s\u001b[0m 455us/step - accuracy: 0.6939 - loss: 0.7826\n",
      "\u001b[1m55/55\u001b[0m \u001b[32m━━━━━━━━━━━━━━━━━━━━\u001b[0m\u001b[37m\u001b[0m \u001b[1m0s\u001b[0m 408us/step - accuracy: 0.7143 - loss: 0.7816\n"
     ]
    }
   ],
   "source": [
    "# Test Script to Save and Load Moel for Testing\n",
    "model.save('models/neural_network_model.keras') # save model\n",
    "loaded_model = load_model('models/neural_network_model.keras') # load model\n",
    "\n",
    "# Evaluate on validation set\n",
    "test_loss, test_acc = loaded_model.evaluate(valid_x, valid_y)\n",
    "\n",
    "test_loss, test_accuracy = model.evaluate(test_x, test_y)\n",
    "\n",
    "\n"
   ]
  },
  {
   "cell_type": "code",
   "execution_count": 236,
   "metadata": {},
   "outputs": [
    {
     "data": {
      "image/png": "[encoded data removed]",
      "text/plain": [
       "<Figure size 640x480 with 1 Axes>"
      ]
     },
     "metadata": {},
     "output_type": "display_data"
    },
    {
     "data": {
      "image/png": "[encoded data removed]",
      "text/plain": [
       "<Figure size 640x480 with 1 Axes>"
      ]
     },
     "metadata": {},
     "output_type": "display_data"
    },
    {
     "data": {
      "image/png": "[encoded data removed]",
      "text/plain": [
       "<Figure size 640x480 with 1 Axes>"
      ]
     },
     "metadata": {},
     "output_type": "display_data"
    }
   ],
   "source": [
    "# Visualize Results\n",
    "\n",
    "# Plot training, validation, and test accuracy values\n",
    "plt.plot(history.history['accuracy'], label='Train')\n",
    "plt.plot(history.history['val_accuracy'], label='Validation')\n",
    "plt.plot([test_acc]*len(history.history['accuracy']), label='Test', linestyle='--')\n",
    "plt.title('Model Accuracy (Train, Validation, and Test)')\n",
    "plt.ylabel('Accuracy')\n",
    "plt.xlabel('Epoch')\n",
    "plt.legend(loc='upper left')\n",
    "plt.show()\n",
    "\n",
    "\n",
    "# Plot training and validation loss values\n",
    "plt.plot(history.history['loss'], label='Training Loss')\n",
    "plt.plot(history.history['val_loss'], label='Validation Loss')\n",
    "plt.title('Loss over Epochs')\n",
    "plt.ylabel('Loss')\n",
    "plt.xlabel('Epoch')\n",
    "plt.legend(loc='upper left')\n",
    "plt.show()\n",
    "\n",
    "\n",
    "# Plot validation and test loss values\n",
    "plt.plot(history.history['val_loss'], label='Validation Loss')\n",
    "plt.axhline(y=test_loss, color='r', linestyle='--', label='Test Loss')\n",
    "plt.title('Model Loss Progression (Validation and Test)')\n",
    "plt.ylabel('Loss')\n",
    "plt.xlabel('Epoch')\n",
    "plt.legend(loc='upper left')\n",
    "plt.show()\n",
    "\n"
   ]
  },
  {
   "cell_type": "markdown",
   "metadata": {},
   "source": [
    "<h1>Results</h1>\n"
   ]
  },
  {
   "cell_type": "markdown",
   "metadata": {},
   "source": [
    "\n",
    "\n",
    "The following graphs are for the base run of the project. Throughout the training, I implemented learning rate reduction technique with the hopes of reducing plateus that occur during the learning process.  The structure of the run is as follows.\n",
    "\n",
    "- Run: Base\n",
    "- Normalization: Yes\n",
    "- Batch Size: 32\n",
    "- Epochs: 80\n",
    "- Learning Rate: 0.01\n",
    "- Optimizer: Adam\n",
    "- Initialization: Random\n",
    "- Regularization: No\n",
    "<h3>Graphs</h3>\n",
    "<img src=\"Images/Base Run Model Accuracy.png\">\n",
    "<img src=\"Images/Base Run Loss.png\">\n",
    "<img src=\"Images/Base Model Loss Progression.png\">\n",
    "\n",
    "<h2>Observations</h2>\n",
    "<h3>Accuracy</h3>\n",
    "Looking at the graph, it can be observed that the model's training accuracy steadily increases throughout each epoch, Indicating that the model is learning effectively from the data. It can also be observed that during the upward trend of the graph, the fluctuations becoem less and less pronounced. This indicates that the model is generalizing well to unseen validation data. By epoch 40, training and validation accuracies seems to stabalize, with the model acheiving around a 76% accuracy. \n",
    "<h3>Loss over Epochs</h3>\n",
    "In this graph, the training loss shows a consistent downward trend, indicating that the model is minimizing its errors over time. The validation loss decreases similarly, although with higher fluctiations during the early epochs. Since the gap between training and validation loss is not significant, it can be assumed that the model is not overfitting to the training data. \n",
    "<h3>Model Loss Progression</h3>\n",
    "In this graph, it can be observed that the validation loss decreases steadily, while the test loss remains constant. This suggests that the model has learned effectively from the training data and has generalized well to my unseen test data. "
   ]
  },
  {
   "cell_type": "markdown",
   "metadata": {},
   "source": [
    "<h2>Run 2</h2>\n",
    "\n",
    "\n",
    "- Run: 2\n",
    "- Normalization: No\n",
    "- Batch Size: 32\n",
    "- Epochs: 80\n",
    "- Learning Rate: 0.01\n",
    "- Optimizer: Adam\n",
    "- Initialization: Random\n",
    "- Regularization: Yes\n",
    "<h3>Graphs</h3>\n",
    "<img src=\"Images/Run 2 Accuracy.png\">\n",
    "<img src=\"Images/Run 2 Loss.png\">\n",
    "<img src=\"Images/Run 2 Loss Progression.png\">\n",
    "\n",
    "<h2>Observations</h2>\n",
    "<h3>Accuracy</h3>\n",
    "The accuracy graph improves dramatically during the first few epochs. However, it seems to flatline after about 20 epochs, indicating that the model may not be learning effectively beyond a certain point. \n",
    "<h3>Loss over Epochs</h3>\n",
    "The training and validation losses improve steadily during the first few epochs, but plateu around 0.72. This may suggest that the learning has slowed down too early. \n",
    "<h3>Model Loss Progression</h3>\n",
    "The test loss flatlines at around 0.74. This suggests that this model configuration is not learning much from the training process after a certain point. "
   ]
  },
  {
   "cell_type": "markdown",
   "metadata": {},
   "source": [
    "\n",
    "<h2>Run 3</h2>\n",
    "\n",
    "- Run:3\n",
    "- Normalization: Yes\n",
    "- Batch Size: 100\n",
    "- Epochs: 80\n",
    "- Learning Rate: 0.0001\n",
    "- Optimizer: Momentum\n",
    "- Initialization:Xavier\n",
    "- Regularization:No\n",
    "<h3>Graphs</h3>\n",
    "<img src=\"Images/Run 3 Accuracy.png\">\n",
    "<img src=\"Images/Run 3 Loss.png\">\n",
    "<img src=\"Images/Run 3 Loss Progression.png\">\n",
    "\n",
    "<h2>Observations</h2>\n",
    "<h3>Accuracy</h3>\n",
    "In this run, the accuracy shows a noticable increase compared to the previous run. The validation accuracy increases rapidly, plateuing near 0.75, while the test accuracy remains stable at around 0.72. This suggests that the model is learning more effectively in this configuration.\n",
    "<h3>Loss over Epochs</h3>\n",
    "Similarly with the accuracy graph, the loss over epochs shows significant improvement for both training and validation. They both decrease steadily over the epochs with validation loss plateuing around 0.65. This indicates that the model is converging well with this learning rate. However, the diffrence between training and validation loss is still present. This may indicate potential overfitting. \n",
    "<h3>Model Loss Progression</h3>\n",
    "The test loss remains stable around 0.65, which suggests that the model is generalizing better to the test set with this configuration."
   ]
  },
  {
   "cell_type": "markdown",
   "metadata": {},
   "source": [
    "<h2>\n",
    "Run 4\n",
    "</h2>\n",
    "\n",
    "\n",
    "- Run: 4\n",
    "- Normalization: No\n",
    "- Batch Size: 100\n",
    "- Epochs: 80\n",
    "- Learning Rate: 0.01\n",
    "- Optimizer: Momentum\n",
    "- Initialization: Xavier\n",
    "- Regularization: Yes\n",
    "<h3>Graphs</h3>\n",
    "<img src=\"Images/Run 4 Accuracy.png\">\n",
    "<img src=\"Images/Run 4 Loss.png\">\n",
    "<img src=\"Images/Run 4 Loss Progression.png\">\n",
    "\n",
    "<h2>Observations</h2>\n",
    "<h3>Accuracy</h3>\n",
    "This model's accuracy shows a steady increase and stabalizes around 68%. There is some fluctuation in the validation accuracy in early epochs, but both training and validation accuracy successfully converge. \n",
    "<h3>Loss over Epochs</h3>\n",
    "The training and validation losses decrese in the first 10 epochs, reaching lower and stable level. However, the test loss, which is computed after training, is represented by a horizontal line and remains higher than the validation and training losses. This might indicate generalization issues. \n",
    "<h3>Model Loss Progression</h3>\n",
    "The test loss remains relatively high, as shown by the horizontal line, suggesting that the model may not generalize well on onseen data. This may be due to overfitting, which could be mitigated by adjusting regularization, learning rate, or implementing strategies like early stopping."
   ]
  },
  {
   "cell_type": "markdown",
   "metadata": {},
   "source": [
    "<h2>\n",
    "Run 5\n",
    "</h2>\n",
    "\n",
    "\n",
    "- Run: 5\n",
    "- Normalization: Yes\n",
    "- Batch Size: 32\n",
    "- Epochs: 80\n",
    "- Learning Rate: 0.0001\n",
    "- Optimizer: Adam\n",
    "- Initialization: Xavier\n",
    "- Regularization: No\n",
    "<h3>Graphs</h3>\n",
    "<img src=\"Images/Run 5 Accuracy.png\">\n",
    "<img src=\"Images/Run 5 Loss.png\">\n",
    "<img src=\"Images/Run 5 Loss Progression.png\">\n",
    "\n",
    "<h2>Observations</h2>\n",
    "<h3>Accuracy</h3>\n",
    "The accuracy plot shows a consistent increase in both training and validation accuracy, and converges at around 20 epochs at 75%.\n",
    "<h3>Loss over Epochs</h3>\n",
    "The training and validation losses both decrease during the first 10 epochs and continue to stabalize therafter. There is a minimal gap between training and validation loss, which sugguests that this configuration is generalizing well without overfitting. \n",
    "<h3>Model Loss Progression</h3>\n",
    "The test loss is consistently lower than the validation loss throughout each epoch. This indicates that the model is performing well on onseen data. "
   ]
  },
  {
   "cell_type": "code",
   "execution_count": null,
   "metadata": {},
   "outputs": [],
   "source": []
  },
  {
   "cell_type": "code",
   "execution_count": null,
   "metadata": {},
   "outputs": [],
   "source": []
  },
  {
   "cell_type": "markdown",
   "metadata": {},
   "source": [
    "<h2>\n",
    "Run 6\n",
    "</h2>\n",
    "\n",
    "\n",
    "- Run: 6\n",
    "- Normalization: No \n",
    "- Batch Size: 32\n",
    "- Epochs: 80\n",
    "- Learning Rate: 0.01\n",
    "- Optimizer: Momentum\n",
    "- Initialization: Random\n",
    "- Regularization: Yes\n",
    "<h3>Graphs</h3>\n",
    "<img src=\"Images/Run 6 Accuracy.png\">\n",
    "<img src=\"Images/Run 6 Loss.png\">\n",
    "<img src=\"Images/Run 6 Loss Progression.png\">\n",
    "\n",
    "<h2>Observations</h2>\n",
    "<h3>Accuracy</h3>\n",
    "Using this configuration, accuracy increases steadily and stabilizes at around 68%. However, there are noticeable fluctuations in both the training and validation accuracy, especially at in the early epochs. \n",
    "<h3>Loss over Epochs</h3>\n",
    "It can be observed that both training and validation losses experience a sharp initial drop during the first 10 epochs. The validation loss fluctuates and remains higher than the training loss, which can indicate that this configuration of the model struggles to generalize to my validation set. \n",
    "<h3>Model Loss Progression</h3>\n",
    "Because of the relatively high validation and test losses paired with the difference between the training and validation losses may suggest overfitting. This could also be due to the higher learning rate or absence of normalization in this configuration. "
   ]
  },
  {
   "cell_type": "markdown",
   "metadata": {},
   "source": [
    "<h2>\n",
    "Run 7\n",
    "</h2>\n",
    "\n",
    "\n",
    "- Run: 7\n",
    "- Normalization: Yes\n",
    "- Batch Size: 100\n",
    "- Epochs: 80\n",
    "- Learning Rate: 0.0001\n",
    "- Optimizer: Adam\n",
    "- Initialization: Random \n",
    "- Regularization: Yes\n",
    "<h3>Graphs</h3>\n",
    "<img src=\"Images/Run 7 Accuracy.png\">\n",
    "<img src=\"Images/Run 7 Loss.png\">\n",
    "<img src=\"Images/Run 7 Loss Progression.png\">\n",
    "\n",
    "<h2>Observations</h2>\n",
    "<h3>Accuracy</h3>\n",
    "It can be observed that the model converges smoothly to around 70% accuracy. This accuracy increases steadily over the initial epochs.\n",
    "<h3>Loss over Epochs</h3>\n",
    "Loss can be observed to decrease steadily across epochs, with this configuration showing minimal overfitting. This can be due to the smaller learning rate and regularization.\n",
    "\n",
    "<h3>Model Loss Progression</h3>\n",
    "Test loss is observed to stabilize well and align closely with validation loss. This indicates good generalization and stable performance on the unseen data. "
   ]
  }
 ],
 "metadata": {
  "kernelspec": {
   "display_name": "Python 3",
   "language": "python",
   "name": "python3"
  },
  "language_info": {
   "codemirror_mode": {
    "name": "ipython",
    "version": 3
   },
   "file_extension": ".py",
   "mimetype": "text/x-python",
   "name": "python",
   "nbconvert_exporter": "python",
   "pygments_lexer": "ipython3",
   "version": "3.10.9"
  }
 },
 "nbformat": 4,
 "nbformat_minor": 2
}
